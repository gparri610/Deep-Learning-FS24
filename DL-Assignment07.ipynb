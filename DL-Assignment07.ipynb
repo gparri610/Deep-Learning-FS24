{
  "cells": [
    {
      "cell_type": "markdown",
      "metadata": {
        "id": "lNeUrj9Y4CAH"
      },
      "source": [
        "### Group Members:\n",
        "\n",
        "- Giovanni Parri, 16-919-144"
      ]
    },
    {
      "cell_type": "markdown",
      "metadata": {
        "id": "AL3yp87I4CAI"
      },
      "source": [
        "# Assignment 7: Transfer Learning\n",
        "\n",
        "\n",
        "The goal of this exercise is to learn how to use pre-trained networks in transfer learning tasks.\n",
        "We will make use of networks trained on ImageNet, and apply them to related problems, i.e., the classification of $6$ categories such as buildings, forests, glaciers, mountains, seas, and streets."
      ]
    },
    {
      "cell_type": "markdown",
      "metadata": {
        "id": "0LiqbEi24CAJ"
      },
      "source": [
        "## Dataset\n",
        "\n",
        "For this exercise we use the  [Intel Image Classification](https://www.kaggle.com/datasets/puneet6060/intel-image-classification) dataset that can be downloaded from the official website [here]({https://www.kaggle.com/datasets/puneet6060/intel-image-classification}).\n",
        "The dataset contains $25000$ color images of pixels size $150\\times 150$ in $6$ classes: buildings, forests, glaciers, mountains, seas, and streets. We will be using only $17000$ of those images where $14000$ are for training and $3000$ for test."
      ]
    },
    {
      "cell_type": "markdown",
      "metadata": {
        "id": "LJhd4wtM4CAJ"
      },
      "source": [
        "### Test 0: Download and check if dataset is downloaded correctly"
      ]
    },
    {
      "cell_type": "markdown",
      "metadata": {
        "id": "3W8SG8Qy4CAJ"
      },
      "source": [
        "#### Download the dataset by running the code below"
      ]
    },
    {
      "cell_type": "code",
      "execution_count": 1,
      "metadata": {
        "id": "HvfEQbf04CAJ"
      },
      "outputs": [],
      "source": [
        "#Library for downloading datasets from Kaggle\n",
        "! pip install opendatasets --upgrade --quiet"
      ]
    },
    {
      "cell_type": "code",
      "execution_count": 2,
      "metadata": {
        "colab": {
          "base_uri": "https://localhost:8080/"
        },
        "id": "Xf4ZmP4x4CAK",
        "outputId": "357feb73-f1ad-4c8d-9e55-a1f7a3ce5aba"
      },
      "outputs": [
        {
          "output_type": "stream",
          "name": "stdout",
          "text": [
            "Skipping, found downloaded files in \"./intel-image-classification\" (use force=True to force download)\n"
          ]
        }
      ],
      "source": [
        "import json\n",
        "\n",
        "# Write kaggle.json file\n",
        "with open('kaggle.json', 'w') as file:\n",
        "    json.dump({'username': '', 'key': ''}, file)\n",
        "\n",
        "import opendatasets\n",
        "opendatasets.download('https://www.kaggle.com/puneet6060/intel-image-classification')"
      ]
    },
    {
      "cell_type": "markdown",
      "metadata": {
        "id": "Rxez2Dzm4CAK"
      },
      "source": [
        "After running the cell above, just verify that the dataset has been downloaded correctly by running the cell below."
      ]
    },
    {
      "cell_type": "code",
      "execution_count": 3,
      "metadata": {
        "colab": {
          "base_uri": "https://localhost:8080/"
        },
        "id": "WDMgjc_h4CAK",
        "outputId": "7a8ba951-985d-4ec1-e578-9adb1842ea4b"
      },
      "outputs": [
        {
          "output_type": "stream",
          "name": "stdout",
          "text": [
            "Dataset is validated successfully. Test Passed\n"
          ]
        }
      ],
      "source": [
        "import os\n",
        "\n",
        "def count_images(directory):\n",
        "    \"\"\"Count the number of image files in the given directory and its subdirectories.\"\"\"\n",
        "    count = 0\n",
        "    for root, dirs, files in os.walk(directory):\n",
        "        count += sum(1 for file in files if file.endswith(('.jpg', '.jpeg', '.png')))\n",
        "    return count\n",
        "\n",
        "def validate_dataset(base_path):\n",
        "    \"\"\"Validate the structure and the count of images in the dataset.\"\"\"\n",
        "    expected_structure = {\n",
        "        'seg_train': 14034,\n",
        "        'seg_test': 3000\n",
        "    }\n",
        "\n",
        "    errors = []\n",
        "\n",
        "    # Check if base directory exists\n",
        "    if not os.path.exists(base_path):\n",
        "        errors.append(f\"Base directory {base_path} does not exist.\")\n",
        "        return errors\n",
        "\n",
        "    # Check each subdirectory and count images\n",
        "    for folder, expected_count in expected_structure.items():\n",
        "        folder_path = os.path.join(base_path, folder)\n",
        "        if not os.path.exists(folder_path):\n",
        "            errors.append(f\"Expected folder {folder_path} does not exist.\")\n",
        "        else:\n",
        "            image_count = count_images(folder_path)\n",
        "            if image_count != expected_count:\n",
        "                errors.append(f\"Folder {folder} has {image_count} images, expected {expected_count}.\")\n",
        "\n",
        "    return errors\n",
        "\n",
        "# Specify the path to the base of the dataset\n",
        "base_dataset_path = \"intel-image-classification/\" #Change if you downloaded manually to some other path\n",
        "\n",
        "# Perform the validation\n",
        "validation_errors = validate_dataset(base_dataset_path)\n",
        "\n",
        "if not validation_errors:\n",
        "    print(\"Dataset is validated successfully. Test Passed\")\n",
        "else:\n",
        "    print(\"Errors found in dataset validation:\")\n",
        "    for error in validation_errors:\n",
        "        print(error)"
      ]
    },
    {
      "cell_type": "markdown",
      "metadata": {
        "id": "_T2gWIrn4CAL"
      },
      "source": [
        "### Task 1: Data Transformation\n",
        "\n",
        "We need to instantiate a proper `torchvision.transform` instance to create the same input structure as used for training our network.\n",
        "We need to combine 4 transforms. The different transforms in Pytorch are available here: https://pytorch.org/vision/0.9/transforms.html.\n",
        "\n",
        "1. We need to resize the image such that the shorter side has size 256.\n",
        "2. We need to take the center crop of size $224\\times224$ from the image.\n",
        "3. We need to convert the image into a tensor (including pixel values scaling)\n",
        "4. We need to normalize the pixel values with mean $(0.485, 0.456, 0.406)$ and standard deviation $(0.229, 0.224, 0.225)$.\n",
        "\n",
        "Since we will use networks pre-trained on ImageNet, we need to perform the exact same transform as used for ImageNet testing."
      ]
    },
    {
      "cell_type": "code",
      "execution_count": 4,
      "metadata": {
        "id": "lrUSf-Hg4CAL"
      },
      "outputs": [],
      "source": [
        "import torch\n",
        "import torchvision\n",
        "\n",
        "imagenet_transform = torchvision.transforms.Compose([torchvision.transforms.Resize(256),\n",
        "    torchvision.transforms.CenterCrop(224),\n",
        "    torchvision.transforms.ToTensor(),\n",
        "    torchvision.transforms.Normalize(mean=[0.485, 0.456, 0.406], std=[0.229, 0.224, 0.225])\n",
        "    ])"
      ]
    },
    {
      "cell_type": "markdown",
      "metadata": {
        "id": "PFiMOmWJ4CAL"
      },
      "source": [
        "### Task 2: Dataset Loading\n",
        "\n",
        "We here use the [ImageFolder](https://pytorch.org/vision/main/generated/torchvision.datasets.ImageFolder.html) class from pytorch to load our training and test set respectively.\n",
        "\n",
        "This task consists of two parts:\n",
        "\n",
        "1. Create two datasets, one for the training set, one for the test set. Use the transform defined above.\n",
        "2. Once the datasets are created, create two data loaders, one for training set, one for test set. Use a proper value of the batch-size $B = 256$. Make sure the trainloader shuffle is set to True."
      ]
    },
    {
      "cell_type": "code",
      "execution_count": 5,
      "metadata": {
        "id": "NmnuhNvG4CAL"
      },
      "outputs": [],
      "source": [
        "from torchvision.datasets import ImageFolder\n",
        "\n",
        "#Path to your training and test data (If different, change the path accordingly)\n",
        "train_dir = './intel-image-classification/seg_train/seg_train/'\n",
        "test_dir = './intel-image-classification/seg_test/seg_test/'\n",
        "\n",
        "trainset = ImageFolder(root = train_dir, transform = imagenet_transform)\n",
        "testset = ImageFolder(root = test_dir, transform = imagenet_transform)"
      ]
    },
    {
      "cell_type": "code",
      "execution_count": 6,
      "metadata": {
        "id": "Lp9pnvch4CAL"
      },
      "outputs": [],
      "source": [
        "B = 32\n",
        "trainloader = torch.utils.data.DataLoader(trainset, batch_size=B, shuffle=True)\n",
        "testloader = torch.utils.data.DataLoader(testset, batch_size=B, shuffle=True)"
      ]
    },
    {
      "cell_type": "markdown",
      "metadata": {
        "id": "9EoJwQXZ4CAL"
      },
      "source": [
        "### Test 1: Data Size and Types\n",
        "\n",
        "We check that all input images are `torch.tensors` of size $3\\times224\\times224$ and of type `torch.float` and that all labels are of type `int`.\n",
        "\n",
        "Note: the sanity check is only performed on the test set."
      ]
    },
    {
      "cell_type": "code",
      "execution_count": 7,
      "metadata": {
        "id": "hzvIHp9I4CAL"
      },
      "outputs": [],
      "source": [
        "for x, t in testset:\n",
        "  assert isinstance(x, torch.Tensor)\n",
        "  assert isinstance(t, int)\n",
        "  assert x.shape==(3,224,224)\n",
        "  assert x.dtype==torch.float\n",
        "  assert x.max() < 3.0\n",
        "  assert x.min() > -3.0"
      ]
    },
    {
      "cell_type": "markdown",
      "metadata": {
        "id": "AmxfnOpv4CAL"
      },
      "source": [
        "## Deep Feature Extraction\n",
        "\n",
        "We will use a pre-trained network available in `PyTorch`.\n",
        "Particularly, we will use a ResNet-50 architecture, but other architectures can also be tested.\n",
        "Fortunately, PyTorch provides simple interfaces to obtain pre-trained models, e.g., using the `torchvision.models.resnet50` interface function.\n",
        "\n",
        "In order to use the networks in a different dataset, we need to change their outputs.\n",
        "There are several possibilities on how to achieve that, and you have the freedom to choose.\n",
        "\n",
        "For your reference, the implementation of the `forward` function of ResNet networks (including ResNet-50) can be found here: https://github.com/pytorch/vision/blob/main/torchvision/models/resnet.py#L266\n",
        "\n",
        "You can also check if other networks perform better, for example, deeper ResNet topologies.\n",
        "Be aware that the strategy to replace the last fully-connected layer might not work the same way in other network topologies, only in residual networks."
      ]
    },
    {
      "cell_type": "markdown",
      "metadata": {
        "id": "YloZWSNv4CAM"
      },
      "source": [
        "### Task 3: Pre-trained Network Instantiation\n",
        "\n",
        "Instantiate two pre-trained networks of type ResNet-50.\n",
        "\n",
        "1. Freeze the feature layers of the first network.\n",
        "\n",
        "Note: Make use the `old TorchVision Interface` to load your pre-trained network. Here is the link: https://pytorch.org/vision/0.12/models.html"
      ]
    },
    {
      "cell_type": "code",
      "execution_count": 8,
      "metadata": {
        "id": "D11aHC9K4CAM"
      },
      "outputs": [],
      "source": [
        "# instantiate the first pre-trained resnet 50 network\n",
        "network_1 = torchvision.models.resnet50(weights=\"DEFAULT\")\n",
        "# Make sure to freeze all the layers of the network.\n",
        "for param in network_1.parameters():\n",
        "    param.requires_grad = False\n",
        "\n",
        "# instantiate the second pre-trained resnet 50 network without the freezing\n",
        "network_2 = torchvision.models.resnet50(weights=\"DEFAULT\")"
      ]
    },
    {
      "cell_type": "markdown",
      "metadata": {
        "id": "y5WgGFxg4CAM"
      },
      "source": [
        "### Task 4: Network Implementation\n",
        "\n",
        "We want to modify the network such that we extract the logits for the 6 classes from the last fully-connected layer of the network.\n",
        "\n",
        "Implement a function that:\n",
        "1. Replaces the current last linear layer of the pre-trained network with a new linear layer that has $O$ units ($O$ represents the number of classes in our dataset)."
      ]
    },
    {
      "cell_type": "code",
      "execution_count": 9,
      "metadata": {
        "id": "rzmiW5Et4CAM"
      },
      "outputs": [],
      "source": [
        "def replace_last_layer(network, O=6):\n",
        "  # replace the last linear layer with the new layer\n",
        "  I = network.fc.in_features\n",
        "  network.fc = torch.nn.Linear(I, O)\n",
        "\n",
        "  return network"
      ]
    },
    {
      "cell_type": "markdown",
      "metadata": {
        "id": "d4qi-d5D4CAM"
      },
      "source": [
        "### Test 2: Last layer dimensions\n",
        "\n",
        "This test ensures that the function return a network having the correct number of input and output units in the last layer."
      ]
    },
    {
      "cell_type": "code",
      "execution_count": 10,
      "metadata": {
        "id": "n7Eo9SXu4CAM"
      },
      "outputs": [],
      "source": [
        "O = 6\n",
        "for network in (network_1, network_2):\n",
        "    new_model = replace_last_layer(network, O=O)\n",
        "    assert new_model.fc.out_features == O\n",
        "    assert new_model.fc.in_features == 2048"
      ]
    },
    {
      "cell_type": "markdown",
      "metadata": {
        "id": "DN08N-7u4CAM"
      },
      "source": [
        "## Network Training\n",
        "Implement a function that takes all necessary parameters to run a training on a given dataset.\n",
        "Select the optimizer to be `torch.optim.SGD` and `torch.nn.CrossEntropyLoss` as the loss function.\n",
        "The test set will be used as the validation set."
      ]
    },
    {
      "cell_type": "markdown",
      "metadata": {
        "id": "Emfw_Pxl4CAM"
      },
      "source": [
        "### Task 5: Training and Evaluation Loop\n",
        "\n",
        "Implement a training loop over a specific number of epochs (5) with a learning rate of $\\eta=0.001$ and momentum of $\\mu = 0.9$. The function should return the predictions and the labels on the validation set after 5 epochs.\n",
        "\n",
        "- In each loop, compute and print the training loss, training accuracy, validation loss and validation accuracy.\n",
        "\n",
        "- Make sure that you train on the training data only, and `not` on the validation data.\n",
        "\n",
        "- During training, make sure your model is in training mode - `model.train()` while during test it is in eval mode - `model.eval()`\n",
        "\n",
        "- Moreover, during eval mode - please use `with torch.no_grad():` and loop on testloader inside it. This disables gradient computation and therefore saves memory.\n",
        "\n",
        "- While saving your pred and target, please use `.detach().cpu().numpy()` before appending your predictions and targets to your list that you will return at the end of your function."
      ]
    },
    {
      "cell_type": "code",
      "execution_count": 11,
      "metadata": {
        "id": "tmpFzYQp4CAM"
      },
      "outputs": [],
      "source": [
        "from tqdm import tqdm\n",
        "import numpy as np\n",
        "def train_eval(trainloader, testloader, network, lr=0.001, mu=0.9):\n",
        "\n",
        "  device = torch.device('cuda' if torch.cuda.is_available() else 'cpu')\n",
        "  network.to(device)\n",
        "\n",
        "  optimizer = torch.optim.SGD(network.parameters(), lr=lr, momentum=mu)\n",
        "\n",
        "  loss_fn = torch.nn.CrossEntropyLoss()\n",
        "\n",
        "  tr_loss, tr_acc, val_loss, val_acc = [], [], [], []\n",
        "\n",
        "  epochs = 5\n",
        "\n",
        "  for epoch in range(epochs):\n",
        "    # training process\n",
        "    network.train()\n",
        "    loss_sum = 0.0\n",
        "    correct = 0\n",
        "    total = 0\n",
        "    for x,t in tqdm(trainloader):\n",
        "      # Set your model to model.train()\n",
        "      x, t = x.to(device), t.to(device)\n",
        "      optimizer.zero_grad()\n",
        "      y = network(x)\n",
        "      output = loss_fn(y,t)\n",
        "      output.backward()\n",
        "      optimizer.step()\n",
        "      loss_sum += output.item()\n",
        "      _,predicted = torch.max(y, 1)\n",
        "      correct += (predicted == t).sum().item()\n",
        "      total += t.size(0)\n",
        "      del x, t, y, predicted\n",
        "    tr_loss.append(loss_sum/len(trainloader))\n",
        "    tr_acc.append(correct/total)\n",
        "    # testing process\n",
        "    # Set your model to model.eval(). Use with torch.no_grad() and loop inside it for testloader\n",
        "    network.eval()\n",
        "    loss_sum = 0.\n",
        "    correct = 0\n",
        "    total = 0\n",
        "    pred, target = [], []\n",
        "    with torch.no_grad():\n",
        "      for x,t in tqdm(testloader):\n",
        "        x, t = x.to(device), t.to(device)\n",
        "        y = network(x)\n",
        "        loss_sum += loss_fn(y,t).item()\n",
        "        _,predicted = torch.max(y, 1)\n",
        "        correct += (predicted == t).sum().item()\n",
        "        total += t.size(0)\n",
        "        pred.append(predicted.detach().cpu().numpy())\n",
        "        target.append(t.detach().cpu().numpy())\n",
        "        del x, t, y, predicted\n",
        "      # Calculate and print accuracies and losses for current epoch\n",
        "    val_loss.append(loss_sum/len(testloader))\n",
        "    val_acc.append(correct/total)\n",
        "    print(\"loss at epoch=\",epoch+1, \":\", val_loss[-1])\n",
        "    print(\"accuracy at epoch=\",epoch+1, \":\", val_acc[-1])\n",
        "  # Save predictions and target labels of the test set after the last epoch\n",
        "  pred, target = [], []\n",
        "  network.eval()\n",
        "  with torch.no_grad():\n",
        "    for x,t in tqdm(testloader):\n",
        "      x, t = x.to(device), t.to(device)\n",
        "      y = network(x)\n",
        "      _, predicted = torch.max(y, 1)\n",
        "      pred.append(predicted.detach().cpu().numpy())\n",
        "      target.append(t.detach().cpu().numpy())\n",
        "\n",
        "    return np.concatenate(pred), np.concatenate(target)\n"
      ]
    },
    {
      "cell_type": "markdown",
      "metadata": {
        "id": "ehIW3gSM4CAM"
      },
      "source": [
        "### Task 6: Network Fine-Tuning with Frozen Layers\n",
        "\n",
        "Create a network that has feature layers frozen with $6$ output units.\n",
        "Fine-tune the created network on our Intel Image Classification data using the previous function."
      ]
    },
    {
      "cell_type": "code",
      "execution_count": 12,
      "metadata": {
        "colab": {
          "base_uri": "https://localhost:8080/"
        },
        "id": "H302AS4D4CAN",
        "outputId": "bdc23eec-63fe-4cab-e9b6-6e9db7830d42"
      },
      "outputs": [
        {
          "output_type": "stream",
          "name": "stderr",
          "text": [
            "100%|██████████| 439/439 [01:19<00:00,  5.50it/s]\n",
            "100%|██████████| 94/94 [00:15<00:00,  5.94it/s]\n"
          ]
        },
        {
          "output_type": "stream",
          "name": "stdout",
          "text": [
            "loss at epoch= 1 : 0.48501377029621856\n",
            "accuracy at epoch= 1 : 0.879\n"
          ]
        },
        {
          "output_type": "stream",
          "name": "stderr",
          "text": [
            "100%|██████████| 439/439 [01:16<00:00,  5.75it/s]\n",
            "100%|██████████| 94/94 [00:15<00:00,  6.01it/s]\n"
          ]
        },
        {
          "output_type": "stream",
          "name": "stdout",
          "text": [
            "loss at epoch= 2 : 0.38232638433258587\n",
            "accuracy at epoch= 2 : 0.889\n"
          ]
        },
        {
          "output_type": "stream",
          "name": "stderr",
          "text": [
            "100%|██████████| 439/439 [01:16<00:00,  5.72it/s]\n",
            "100%|██████████| 94/94 [00:16<00:00,  5.84it/s]\n"
          ]
        },
        {
          "output_type": "stream",
          "name": "stdout",
          "text": [
            "loss at epoch= 3 : 0.352952223825962\n",
            "accuracy at epoch= 3 : 0.89\n"
          ]
        },
        {
          "output_type": "stream",
          "name": "stderr",
          "text": [
            "100%|██████████| 439/439 [01:19<00:00,  5.54it/s]\n",
            "100%|██████████| 94/94 [00:16<00:00,  5.85it/s]\n"
          ]
        },
        {
          "output_type": "stream",
          "name": "stdout",
          "text": [
            "loss at epoch= 4 : 0.324156051303478\n",
            "accuracy at epoch= 4 : 0.898\n"
          ]
        },
        {
          "output_type": "stream",
          "name": "stderr",
          "text": [
            "100%|██████████| 439/439 [01:17<00:00,  5.68it/s]\n",
            "100%|██████████| 94/94 [00:15<00:00,  5.95it/s]\n"
          ]
        },
        {
          "output_type": "stream",
          "name": "stdout",
          "text": [
            "loss at epoch= 5 : 0.3130412239660608\n",
            "accuracy at epoch= 5 : 0.8996666666666666\n"
          ]
        },
        {
          "output_type": "stream",
          "name": "stderr",
          "text": [
            "100%|██████████| 94/94 [00:16<00:00,  5.81it/s]\n"
          ]
        }
      ],
      "source": [
        "network_with_frozen_layers = replace_last_layer(network_1)\n",
        "pred_frozen, targ_frozen = train_eval(trainloader, testloader, network_with_frozen_layers)"
      ]
    },
    {
      "cell_type": "markdown",
      "metadata": {
        "id": "AwmF6BIE4CAN"
      },
      "source": [
        "### Task 7: Network Fine-Tuning without Frozen Layers\n",
        "\n",
        "Create a network from the second pre-trained network with $6$ output units. This network should not have the layers frozen.\n",
        "Fine-tune the created network on our dataset.\n",
        "\n",
        "Note:\n",
        "\n",
        "  * The fine-tuning of the network can take a long time (> 30 minutes) when the layers are not frozen."
      ]
    },
    {
      "cell_type": "code",
      "execution_count": 13,
      "metadata": {
        "id": "LPh8PaAZ4CAN",
        "colab": {
          "base_uri": "https://localhost:8080/"
        },
        "outputId": "2dbed4e1-d832-49d2-af28-8c136e3ba51e"
      },
      "outputs": [
        {
          "output_type": "stream",
          "name": "stderr",
          "text": [
            "100%|██████████| 439/439 [02:45<00:00,  2.66it/s]\n",
            "100%|██████████| 94/94 [00:16<00:00,  5.56it/s]\n"
          ]
        },
        {
          "output_type": "stream",
          "name": "stdout",
          "text": [
            "loss at epoch= 1 : 0.230262881343035\n",
            "accuracy at epoch= 1 : 0.9206666666666666\n"
          ]
        },
        {
          "output_type": "stream",
          "name": "stderr",
          "text": [
            "100%|██████████| 439/439 [02:45<00:00,  2.65it/s]\n",
            "100%|██████████| 94/94 [00:16<00:00,  5.84it/s]\n"
          ]
        },
        {
          "output_type": "stream",
          "name": "stdout",
          "text": [
            "loss at epoch= 2 : 0.21197318713715735\n",
            "accuracy at epoch= 2 : 0.925\n"
          ]
        },
        {
          "output_type": "stream",
          "name": "stderr",
          "text": [
            "100%|██████████| 439/439 [02:45<00:00,  2.65it/s]\n",
            "100%|██████████| 94/94 [00:16<00:00,  5.79it/s]\n"
          ]
        },
        {
          "output_type": "stream",
          "name": "stdout",
          "text": [
            "loss at epoch= 3 : 0.19658333891408242\n",
            "accuracy at epoch= 3 : 0.926\n"
          ]
        },
        {
          "output_type": "stream",
          "name": "stderr",
          "text": [
            "100%|██████████| 439/439 [02:47<00:00,  2.61it/s]\n",
            "100%|██████████| 94/94 [00:15<00:00,  5.96it/s]\n"
          ]
        },
        {
          "output_type": "stream",
          "name": "stdout",
          "text": [
            "loss at epoch= 4 : 0.20024548076648027\n",
            "accuracy at epoch= 4 : 0.9293333333333333\n"
          ]
        },
        {
          "output_type": "stream",
          "name": "stderr",
          "text": [
            "100%|██████████| 439/439 [02:48<00:00,  2.61it/s]\n",
            "100%|██████████| 94/94 [00:15<00:00,  5.89it/s]\n"
          ]
        },
        {
          "output_type": "stream",
          "name": "stdout",
          "text": [
            "loss at epoch= 5 : 0.19606650075776147\n",
            "accuracy at epoch= 5 : 0.9293333333333333\n"
          ]
        },
        {
          "output_type": "stream",
          "name": "stderr",
          "text": [
            "100%|██████████| 94/94 [00:16<00:00,  5.86it/s]\n"
          ]
        }
      ],
      "source": [
        "network_normal = replace_last_layer(network_2) # Use network_2 defined above and replace the last layer\n",
        "pred_unfrozen, targ_unfrozen = train_eval(trainloader, testloader, network_normal)"
      ]
    },
    {
      "cell_type": "markdown",
      "metadata": {
        "id": "sRdp4n8j4CAN"
      },
      "source": [
        "## Plotting\n",
        "\n",
        "Finally, we want to plot the confusion matrix of the test set.\n",
        "For this, we need use the predictions and target values we saved from the previous tasks (Task 6 and Task 7).\n",
        "Finally, we can make use of the `sklearn.metrics.confusion_matrix` to compute the confusion matrix.\n",
        "You can utilize `sklearn.metrics.ConfusionMatrixDisplay` for displaying the confusion matrix, or `pyplot.imshow` and adding the according labels.\n",
        "\n",
        "Note:\n",
        "\n",
        "  * The documentation for the confusion matrix can be found here: https://scikit-learn.org/stable/modules/generated/sklearn.metrics.confusion_matrix.html\n",
        "  * The interface and an example for the `ConfusionMatrixDisplay` can be found here: https://scikit-learn.org/stable/modules/generated/sklearn.metrics.ConfusionMatrixDisplay.html"
      ]
    },
    {
      "cell_type": "markdown",
      "metadata": {
        "id": "WU4uCoOS4CAN"
      },
      "source": [
        "### Task 8: Confusion Matrix Plotting\n",
        "\n",
        "* Plot the confusion matrix for the fine-tuned network with frozen layers.\n",
        "* Also plot the confusion matrix for the second fine-tuned network without frozen layers.\n",
        "* Compare the two"
      ]
    },
    {
      "cell_type": "code",
      "execution_count": 14,
      "metadata": {
        "id": "C1EKl4vk4CAN",
        "colab": {
          "base_uri": "https://localhost:8080/",
          "height": 502
        },
        "outputId": "0ef60c47-3f65-42e3-b972-eaf29df7dc95"
      },
      "outputs": [
        {
          "output_type": "display_data",
          "data": {
            "text/plain": [
              "<Figure size 640x480 with 2 Axes>"
            ],
            "image/png": "[encoded data removed]"
          },
          "metadata": {}
        }
      ],
      "source": [
        "from sklearn.metrics import confusion_matrix, ConfusionMatrixDisplay\n",
        "import matplotlib.pyplot as plt\n",
        "\n",
        "# add axis labels if required\n",
        "classes = trainset.classes\n",
        "\n",
        "# compute confusion matrix\n",
        "matrix_frozen = confusion_matrix(targ_frozen, pred_frozen) # Use predictions and target from the fine-tuned network with frozen layers\n",
        "matrix_unfrozen = confusion_matrix(pred_unfrozen, targ_unfrozen) # Use predictions and target from the fine-tuned network without frozen layers\n",
        "\n",
        "# plot confusion matrices\n",
        "plot_conf_matrix1 = ConfusionMatrixDisplay(matrix_frozen, display_labels=classes)\n",
        "plot_conf_matrix1.plot(xticks_rotation = \"vertical\")\n",
        "plt.show()"
      ]
    },
    {
      "cell_type": "code",
      "execution_count": 15,
      "metadata": {
        "id": "GQOsDT0j4CAN",
        "colab": {
          "base_uri": "https://localhost:8080/",
          "height": 502
        },
        "outputId": "f0df9a4b-4e27-4be3-cb4e-52169acdf42d"
      },
      "outputs": [
        {
          "output_type": "display_data",
          "data": {
            "text/plain": [
              "<Figure size 640x480 with 2 Axes>"
            ],
            "image/png": "[encoded data removed]"
          },
          "metadata": {}
        }
      ],
      "source": [
        "plot_conf_matrix2 = ConfusionMatrixDisplay(matrix_unfrozen, display_labels=classes)\n",
        "plot_conf_matrix2.plot(xticks_rotation = \"vertical\")\n",
        "plt.show()"
      ]
    }
  ],
  "metadata": {
    "interpreter": {
      "hash": "2dd53f8ad749bca69f7250ce75eb4f0def59db5cf79075a9716322ffc58e8a2e"
    },
    "kernelspec": {
      "display_name": "Python 3",
      "name": "python3"
    },
    "language_info": {
      "codemirror_mode": {
        "name": "ipython",
        "version": 3
      },
      "file_extension": ".py",
      "mimetype": "text/x-python",
      "name": "python",
      "nbconvert_exporter": "python",
      "pygments_lexer": "ipython3",
      "version": "3.9.16"
    },
    "orig_nbformat": 4,
    "colab": {
      "provenance": [],
      "toc_visible": true,
      "gpuType": "T4"
    },
    "accelerator": "GPU"
  },
  "nbformat": 4,
  "nbformat_minor": 0
}