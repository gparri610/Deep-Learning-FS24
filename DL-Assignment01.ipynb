{
 "cells": [
  {
   "attachments": {},
   "cell_type": "markdown",
   "metadata": {},
   "source": [
    "### Group Members:\n",
    "\n",
    "- Giovanni Sergio Armido Parri, 16-919-144\n",
    "- Name, matriculation number\n",
    "- Name, matriculation number"
   ]
  },
  {
   "cell_type": "markdown",
   "metadata": {},
   "source": [
    "# Assignment 1: Perceptron Learning\n",
    "\n",
    "The goal of this exercise is to apply the perceptron learning to a total of $N=100$ automatically generated, separable random data $X=\\bigl\\{\\vec x^1, \\vec x^2,\\ldots,\\vec x^ N \\bigr\\}$ with each $\\vec x^n = \\bigl(x_1^n, x_2^n\\bigr)^T$.\n",
    "Each data point $\\vec x^n$ is accompanied by an according target value $X=\\bigl\\{t^1, t^2,\\ldots,t^ N\\bigr\\}$ with $t^n \\in \\{-1,+1\\}$.\n",
    "\n",
    "## Data Generation\n",
    "The data should be generated such that\n",
    "$\\forall n\\leq\\frac N2\\colon \\vec x^n \\sim \\mathcal N_{\\vec\\mu_+, \\sigma_+}$.\n",
    "These samples will be our positive data labeled with $t^n=1$.\n",
    "Similarly, we generate our negative data with\n",
    "$\\forall n>\\frac N2\\colon \\vec x^n \\sim \\mathcal N_{\\vec\\mu_-, \\sigma_-}$\n",
    "and label them as $t^n=-1$.\n",
    "\n",
    "### Task 1: Data Samples\n",
    "\n",
    "Given the number of samples and the means (mu) and standard deviations (sigma) of positive (pos) and negative (neg) data, generate and return data samples including their labels. Remember to add the bias neuron $x_0=1$ to each of the samples.\n",
    "\n",
    "Hints:\n",
    "1. Use `numpy` package to generate data.\n",
    "2. Exemplary means could be selected as: $\\vec\\mu_+=(-5,3)^T$ and $\\vec\\mu_- = (5, -3)^T$. The standard deviations $\\sigma_+$ and $\\sigma_-$ should be selected such that the data is most likely separable."
   ]
  },
  {
   "cell_type": "code",
   "execution_count": 1,
   "metadata": {},
   "outputs": [],
   "source": [
    "import numpy as np\n",
    "import random\n",
    "\n",
    "def dataset(number_of_samples, mu_pos, sigma_pos, mu_neg, sigma_neg):\n",
    "  \n",
    "  all_data = []\n",
    "  all_labels = []\n",
    "\n",
    "  rng = np.random.RandomState(0)\n",
    "  \n",
    "  # create positive and negative data\n",
    "  for n in range(int(number_of_samples/2.)):\n",
    "    all_data.append(rng.normal(loc = mu_pos, scale=sigma_pos))\n",
    "    all_labels.append(1)\n",
    "    all_data.append(rng.normal(loc = mu_neg, scale=sigma_neg))\n",
    "    all_labels.append(-1)\n",
    "  \n",
    "\n",
    "  # anything else to consider?\n",
    "  \n",
    "  ### Shuffle the dataset\n",
    "   \n",
    "\n",
    "  indices = list(range(len(all_data)))\n",
    "\n",
    "  rng.shuffle(indices)\n",
    "\n",
    "  all_data = [all_data[i] for i in indices]\n",
    "  all_labels = [all_labels[i] for i in indices]\n",
    "\n",
    "  ### add column of ones for bias term w0\n",
    "  all_data = np.hstack((np.ones((len(all_data), 1)), all_data))\n",
    "  \n",
    "  \n",
    "  # return both X and T\n",
    "  return all_data, all_labels"
   ]
  },
  {
   "attachments": {},
   "cell_type": "markdown",
   "metadata": {},
   "source": [
    "### Task 2: Select Data Parameters and Line Parameters\n",
    "\n",
    "We want to select data points such that we exactly know where the ideal separating line should be placed.\n",
    "Note that data samples are not always separable since they are generated randomly.\n",
    "You should determine, which means and standard deviations are useful.\n",
    "\n",
    "Once you have defined your means, you should also define the separating line.\n",
    "The easiest is to provide it as Cartesian equation: $w_0 + w_1 x_1 + w_2 x_2$.\n",
    "Note that the separating line is orthogonal to the vector $\\overrightarrow{\\vec\\mu_- \\vec\\mu_+}$, that the normal of the line $(w_1, w_2)^T$ is orthogonal to the line, and that $w_0$ should be selected such that the line $\\vec w$ is in the middle of $\\vec\\mu_+$ and $\\vec\\mu_-$."
   ]
  },
  {
   "cell_type": "code",
   "execution_count": 2,
   "metadata": {},
   "outputs": [],
   "source": [
    "X, T = dataset(100, [-5, 3],[1,1] , [5, -3], [1,1])\n",
    "\n",
    "w_manual = np.array([0, -1, 5/3])\n"
   ]
  },
  {
   "attachments": {},
   "cell_type": "markdown",
   "metadata": {},
   "source": [
    "### Test 1: Linear Separability Test\n",
    "\n",
    "A line $a = f_{\\vec w}(\\vec x) = w_0 + w_1 x_1 + w_2 x_2$ linearly separates the data $(X,T)$ if $\\forall n: a^{[n]} t^{[n]} > 0$ for $a^{[n]} = f_{\\vec w}(\\vec x^{[n]})$.\n",
    "The below function implements this linear separability test. We apply this test to your data $(X,T)$ from Task 1 and your manually selected line $\\vec w$ from Task 2 to assure that the line separates the data."
   ]
  },
  {
   "cell_type": "code",
   "execution_count": 3,
   "metadata": {},
   "outputs": [
    {
     "name": "stdout",
     "output_type": "stream",
     "text": [
      "The data is separated by the manually selected line\n"
     ]
    }
   ],
   "source": [
    "def separability_test(X, T, w):\n",
    "  return np.all(np.dot(X,w) * T > 0)\n",
    "\n",
    "# Test 1: check that the weights are separating the data\n",
    "if separability_test(X, T, w_manual):\n",
    "  print(\"The data is separated by the manually selected line\")\n",
    "else:\n",
    "  print(\"The manually selected line does not separate the data\")\n"
   ]
  },
  {
   "attachments": {},
   "cell_type": "markdown",
   "metadata": {},
   "source": [
    "### Task 3: Perceptron\n",
    "\n",
    "The perceptron is defined as the Adaline $$a = f_{\\vec w}(\\vec x)$$ that is thresholded using the sign function $$\\mathrm{sign}(a) = \\begin{cases} +1 &\\text{if } a \\geq 0\\\\ -1 & \\text{otherwise.}\\end{cases}$$\n",
    "Implement a function that computes and returns the perceptron for a given data point $\\vec x$ and line parameters $\\vec w$."
   ]
  },
  {
   "cell_type": "code",
   "execution_count": 4,
   "metadata": {},
   "outputs": [],
   "source": [
    "def perceptron(x, w):\n",
    "  if np.dot(x,w) >= 0:\n",
    "    return 1\n",
    "  else:\n",
    "    return -1\n",
    "\n"
   ]
  },
  {
   "attachments": {},
   "cell_type": "markdown",
   "metadata": {},
   "source": [
    "## Perceptron Learning\n",
    "\n",
    "The perceptron learning rule is defined as follows.\n",
    "First, the weights $\\vec w = (w_0, w_1, w_2)^T$ are initialized randomly.\n",
    "Then, for each sample $(x,t)$ of the dataset we check if the sample is correctly classified as $H(f_{\\vec w}(\\vec x)) t > 0$.\n",
    "If the sample is classified incorrectly, the weights are adapted: $w_0 = w_0 + t$, $w_1 = w_1 + tx_1$, $w_2 = w_2 + tx_2$.\n",
    "This step is repeated until all samples are classified correctly.\n",
    "\n",
    "\n",
    "### Task 4: Perceptron Learning Implementation\n",
    "\n",
    "Implement a function that performs perceptron learning for a given dataset $(X,T)$ and a given initial weight vector $\\vec w$.\n",
    "The final weight vector $\\vec w^*$ shall be returned from that function.\n",
    "Define a proper stopping criterion for the iteration.\n",
    "Consider in your implementation error cases that could arise.\n"
   ]
  },
  {
   "cell_type": "code",
   "execution_count": 5,
   "metadata": {},
   "outputs": [],
   "source": [
    "def perceptron_learning(X, T, w):\n",
    "  # first, make a copy of your weights\n",
    "  w_star = w\n",
    "  # then, iterate over the data and perform perceptron learning\n",
    "  for i in range(100):  \n",
    "    if (perceptron(X[i,:], w_star)*T[i]) > 0:\n",
    "      continue\n",
    "    else:\n",
    "      w_star[0] = w_star[0] + T[i]\n",
    "      w_star[1] = w_star[1] + T[i]*w_star[1]\n",
    "      w_star[2] = w_star[2] + T[i]*w_star[2]\n",
    "\n",
    "  \n",
    "  # finally, return the optimal weights\n",
    "  return w_star\n"
   ]
  },
  {
   "attachments": {},
   "cell_type": "markdown",
   "metadata": {},
   "source": [
    "### Test 2: Sanity Check\n",
    "\n",
    "We call the perceptron learning function with the data from task 1 and the manual line from task 2. If the line separates the data, it should not be changed. Here we test if this is the actual outcome of the perceptron learning function."
   ]
  },
  {
   "cell_type": "code",
   "execution_count": 6,
   "metadata": {},
   "outputs": [
    {
     "name": "stdout",
     "output_type": "stream",
     "text": [
      "As desired, perceptron learning does not optimize an already separating line\n"
     ]
    }
   ],
   "source": [
    "w_star = perceptron_learning(X, T, w_manual)\n",
    "# check if the output is as expected\n",
    "if np.any(w_manual != w_star):\n",
    "    print(\"Warning: the perceptron algorithm seems to be wrong\")\n",
    "else:\n",
    "    print(\"As desired, perceptron learning does not optimize an already separating line\")\n"
   ]
  },
  {
   "attachments": {},
   "cell_type": "markdown",
   "metadata": {},
   "source": [
    "### Task 5: Weight Initialization\n",
    "\n",
    "Implement a function that generates and returns randomly initialized weights $\\vec w \\in [-1,1]^3$."
   ]
  },
  {
   "cell_type": "code",
   "execution_count": 7,
   "metadata": {},
   "outputs": [],
   "source": [
    "def random_weights(lowest = -1, highest = 1):\n",
    "  return [random.uniform(-1, 1),random.uniform(-1, 1),random.uniform(-1, 1)]"
   ]
  },
  {
   "attachments": {},
   "cell_type": "markdown",
   "metadata": {},
   "source": [
    "### Task 6: Perceptron Learning Execution\n",
    "\n",
    "Call the perceptron learning function with the data from task 1 and the randomly generated initial weight vector from task 5.\n",
    "Store the resulting weight vector $\\vec w^*$."
   ]
  },
  {
   "cell_type": "code",
   "execution_count": 8,
   "metadata": {},
   "outputs": [],
   "source": [
    "# create random weights\n",
    "w_initial = random_weights()\n",
    "# perform perceptron learning\n",
    "w_star = perceptron_learning(X, T, w_initial)\n"
   ]
  },
  {
   "attachments": {},
   "cell_type": "markdown",
   "metadata": {},
   "source": [
    "### Test 3: Result Validation\n",
    "\n",
    "We verify that the optimized $\\vec w^*$ actually separates the data."
   ]
  },
  {
   "cell_type": "code",
   "execution_count": 9,
   "metadata": {},
   "outputs": [
    {
     "name": "stdout",
     "output_type": "stream",
     "text": [
      "The data is separated by the optimal line\n"
     ]
    }
   ],
   "source": [
    "# verify that we have learned to separate the data\n",
    "if separability_test(X, T, w_star):\n",
    "  print(\"The data is separated by the optimal line\")\n",
    "else:\n",
    "  print(\"The optimal line does not separate the data\")"
   ]
  },
  {
   "attachments": {},
   "cell_type": "markdown",
   "metadata": {},
   "source": [
    "## Visualization\n",
    "\n",
    "We have selected our data to be 2-dimensional to be able to visualize the results.\n",
    "For this purpose, we would like to jointly plot the positive and the negative data from Task 1 together with the decision boundaries of the weight vectors obtained in Tasks 2 and 6.\n",
    "An example can be found in the exercise slides.\n",
    "\n",
    "### Task 7: Plotting\n",
    "\n",
    "First, we need to plot the data points such that positive data are plotted with green dots, and negative data with red dots.\n",
    "\n",
    "Then, we need to compute the line parameters. For this purpose, we define the separating line in Cartesian coordinates $f_{\\vec w}(\\vec x) = 0$ and solve it to the parametric form $x_2 = \\beta x_1 + \\gamma$."
   ]
  },
  {
   "cell_type": "code",
   "execution_count": 12,
   "metadata": {},
   "outputs": [
    {
     "data": {
      "text/plain": [
       "<matplotlib.legend.Legend at 0x7f7829a9aeb0>"
      ]
     },
     "execution_count": 12,
     "metadata": {},
     "output_type": "execute_result"
    },
    {
     "data": {
      "image/png": "[encoded data removed]",
      "text/plain": [
       "<Figure size 576x576 with 1 Axes>"
      ]
     },
     "metadata": {
      "needs_background": "light"
     },
     "output_type": "display_data"
    }
   ],
   "source": [
    "def line_parameters(w):\n",
    "  # compute parametric line parameters from Cartesian coordinates\n",
    "  if w[2]==0.:\n",
    "    print(\"generate again the random w value\")\n",
    "  else:\n",
    "    beta = -w[1]/w[2]\n",
    "    gamma = -w[0]/w[2]\n",
    "  return beta, gamma\n",
    "\n",
    "\n",
    "from matplotlib import pyplot\n",
    "\n",
    "# create a square plot\n",
    "pyplot.figure(figsize=(8,8))\n",
    "\n",
    "# plot the positive data points\n",
    "indices_pos = [i for i, value in enumerate(T) if value == 1]\n",
    "indices_neg = [i for i, value in enumerate(T) if value == -1]\n",
    "X_pos_1 = [X[i,1] for i in indices_pos]\n",
    "X_neg_1 = [X[i,1] for i in indices_neg]\n",
    "X_pos_2 = [X[i,2] for i in indices_pos]\n",
    "X_neg_2 = [X[i,2] for i in indices_neg]\n",
    "pyplot.plot(X_pos_1, X_pos_2, \"g.\", label=\"positive data\")\n",
    "# plot the negative data points\n",
    "pyplot.plot(X_neg_1, X_neg_2, \"r.\", label=\"negative data\")\n",
    "\n",
    "# define positions where to evaluate the line:\n",
    "x1 = np.linspace(-10, 10, 100)\n",
    "\n",
    "# compute line parameters for manual line\n",
    "beta, gamma = line_parameters(w_manual)\n",
    "# now, compute the values according to our parametric form:\n",
    "x2 = beta * x1 + gamma\n",
    "# plot manual line\n",
    "pyplot.plot(x1, x2, \"m-\", label=\"manual line\")\n",
    "\n",
    "# compute line parameters for optimized line\n",
    "beta, gamma = line_parameters(w_star)\n",
    "# now, compute the values according to our parametric form:\n",
    "x2 = beta * x1 + gamma\n",
    "# plot optimized line\n",
    "pyplot.plot(x1, x2, \"b-\", label=\"optimized line\")\n",
    "\n",
    "# make the plot more beautiful\n",
    "pyplot.grid()\n",
    "pyplot.xlabel(\"$x_1$\",  fontsize=17)\n",
    "pyplot.ylabel(\"$x_2$\", fontsize=17)\n",
    "pyplot.legend()"
   ]
  },
  {
   "cell_type": "code",
   "execution_count": null,
   "metadata": {},
   "outputs": [],
   "source": []
  }
 ],
 "metadata": {
  "kernelspec": {
   "display_name": "DL",
   "language": "python",
   "name": "python3"
  },
  "language_info": {
   "codemirror_mode": {
    "name": "ipython",
    "version": 3
   },
   "file_extension": ".py",
   "mimetype": "text/x-python",
   "name": "python",
   "nbconvert_exporter": "python",
   "pygments_lexer": "ipython3",
   "version": "3.8.8"
  },
  "orig_nbformat": 4,
  "vscode": {
   "interpreter": {
    "hash": "a29cabff5744fce69e08a959ab87b9e77a9f67b498d08783caa8c3bb16f23a00"
   }
  }
 },
 "nbformat": 4,
 "nbformat_minor": 2
}
