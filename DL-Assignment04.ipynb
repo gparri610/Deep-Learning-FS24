{
  "cells": [
    {
      "cell_type": "markdown",
      "metadata": {},
      "source": [
        "### Group Members:\n",
        "\n",
        "- Giovanni Sergio Armido Parri, 16-919-144"
      ]
    },
    {
      "attachments": {},
      "cell_type": "markdown",
      "metadata": {
        "id": "9DKZj8jK_Dry"
      },
      "source": [
        "# Assignment 4: Multi-Output Networks and Batch Processing\n",
        "\n",
        "The goal of this exercise is to get to know some regularization techniques when implementing deep learning methods.\n",
        "For this purpose, we select a dataset that contains data in different formats, some binary ($x_d \\in \\{-1,1\\}$) and some numerical ($x_d\\in \\mathbb N$); and some are categorical, which we ignore for now.\n",
        "As target values, this dataset contains three numerical outputs, so, $\\vec t \\in \\mathbb R^3$ for each sample.\n",
        "These target values should be approximated with a two-layer multi-output network that we will train with the $\\mathcal J^{L_2}$ loss.\n",
        "\n",
        "Remember to make use of `numpy` in the matrix calculation, e.g. `numpy.dot`, `numpy.exp`, `numpy.mean` "
      ]
    },
    {
      "attachments": {},
      "cell_type": "markdown",
      "metadata": {
        "id": "5lrQLreklXtS"
      },
      "source": [
        "## Dataset\n",
        "\n",
        "The dataset of our choice is the Student Performance estimation dataset that was collected in Portugal in two different schools and with two different subjects, i.e., math and Portuguese (the mother tongue).\n",
        "The dataset contains many different inputs such as a binary representation of the school, gender, family sizes, and alike, as well as numerical representations of age, travel time, and alcohol consumption.\n",
        "The dataset also includes some categorical data, which we skip in this assignment.\n",
        "See https://archive.ics.uci.edu/ml/datasets/Student+Performance for more information on the dataset.\n",
        "As a start, we will rely on the Portuguese performance (`\"por\"`), but you can also try to use the Math samples (`\"mat\"`)."
      ]
    },
    {
      "attachments": {},
      "cell_type": "markdown",
      "metadata": {
        "id": "HSol7VoalR-7"
      },
      "source": [
        "### Task 1: Dataset Loading\n",
        "\n",
        "\n",
        "Load the dataset from files and provide the input matrix $\\mathbf X \\in \\mathbb R^{(D+1)\\times N}$ and the output matrix $\\mathbf T \\in \\mathbb R^{O\\times N}$.\n",
        "\n",
        "Due to the difficulty of the task, most of the implementation is provided.\n",
        "The implementation is very literal and, therefore, hopefully readable, while maybe not the most efficient.\n",
        "\n",
        "We skip categorical inputs (indexes 8-11) for now.\n",
        "All other entries are converted either into binary $(-1,1)$ or into an integer range $(0,1,\\ldots)$.\n",
        "The three outputs range between 0 and 20 each. The bias value for $x_0=1$ is also already included.\n",
        "You just need to make sure that the data $(X,T)$ is returned in the desired format."
      ]
    },
    {
      "cell_type": "code",
      "execution_count": 1,
      "metadata": {
        "id": "wE3DlW-e_Dr1"
      },
      "outputs": [],
      "source": [
        "import math\n",
        "import numpy\n",
        "import os\n",
        "import random\n",
        "\n",
        "# Dataset origin: https://archive.ics.uci.edu/ml/datasets/Student+Performance\n",
        "\n",
        "def dataset(course=\"por\"):\n",
        "  # load dataset and provide input and target data\n",
        "  # possible data files are \"mat\" and \"por\"\n",
        "\n",
        "  # download data file from URL\n",
        "  dataset_zip_file = \"student.zip\"\n",
        "  if not os.path.exists(dataset_zip_file):\n",
        "    import urllib.request\n",
        "    urllib.request.urlretrieve(\"https://archive.ics.uci.edu/ml/machine-learning-databases/00320/student.zip\", dataset_zip_file)\n",
        "    print (\"Downloaded datafile\", dataset_zip_file)\n",
        "\n",
        "  import zipfile\n",
        "  import csv\n",
        "  import io\n",
        "\n",
        "  # collect inputs\n",
        "  inputs = []\n",
        "  targets = []\n",
        "  # some default values: yes=1, no=-1\n",
        "  yn = {\"yes\":1.,\"no\":-1.}\n",
        "  # read through dataset (without actually unzippiung to a file):\n",
        "  # ... open zip file\n",
        "  zip = zipfile.ZipFile(dataset_zip_file)\n",
        "  # ... open data file inside of zip file and convert bytes to text\n",
        "  datafile = io.TextIOWrapper(zip.open(os.path.join(F\"student-{course}.csv\"), 'r'))\n",
        "  # ... read through the lines via CSV reader, using the correct delimiter\n",
        "  reader = csv.reader(datafile, delimiter=\";\")\n",
        "  # ... skip header line\n",
        "  next(reader)\n",
        "  for splits in reader:\n",
        "    # read input values\n",
        "    inputs.append([\n",
        "      1.,                             #### BIAS ####\n",
        "      {\"GP\":1.,\"MS\":-1.}[splits[0]],  # school\n",
        "      {\"M\":1.,\"F\":-1.}[splits[1]],    # gender\n",
        "      float(splits[2]),               # age\n",
        "      {\"U\":1.,\"R\":-1.}[splits[3]],    # address\n",
        "      {\"LE3\":1.,\"GT3\":-1.}[splits[4]],# family size\n",
        "      {\"T\":1.,\"A\":-1.}[splits[5]],    # parents living together\n",
        "      float(splits[6]),               # mother education\n",
        "      float(splits[7]),               # father education\n",
        "      # skip categorical values\n",
        "      float(splits[12]),              # travel time\n",
        "      float(splits[13]),              # study time\n",
        "      float(splits[14]),              # failures\n",
        "      yn[splits[15]],                 # extra support\n",
        "      yn[splits[16]],                 # family support\n",
        "      yn[splits[17]],                 # paid support\n",
        "      yn[splits[18]],                 # activities\n",
        "      yn[splits[19]],                 # nursery school\n",
        "      yn[splits[20]],                 # higher education\n",
        "      yn[splits[21]],                 # internet\n",
        "      yn[splits[22]],                 # romantic\n",
        "      float(splits[23]),              # family relation\n",
        "      float(splits[24]),              # free time\n",
        "      float(splits[25]),              # going out\n",
        "      float(splits[26]),              # workday alcohol\n",
        "      float(splits[27]),              # weekend alcohol\n",
        "      float(splits[28]),              # health\n",
        "      float(splits[29]),              # absences\n",
        "    ])\n",
        "\n",
        "    # read targets values\n",
        "    targets.append([\n",
        "      float(splits[30]),              # grade for primary school\n",
        "      float(splits[31]),              # grade for secondary school\n",
        "      float(splits[32]),              # grade for tertiary school\n",
        "    ])\n",
        "\n",
        "  print(F\"Loaded dataset with {len(targets)} samples\")\n",
        "  return (numpy.array(inputs).T, numpy.array(targets).T)"
      ]
    },
    {
      "cell_type": "markdown",
      "metadata": {
        "id": "FWNwt2Rb_Dr3"
      },
      "source": [
        "### Test 1: Assert Valid Outputs\n",
        "\n",
        "This test will check the dimension of the loaded dataset, i.e. $\\mathbf X\\in \\mathbb R^{(D+1)\\times N}$ and $\\mathbf T \\in \\mathbb R^{O\\times N}$, and also assure that all target data is in the range $t\\in[0,20]$.\n",
        "\n",
        "Please make sure that your implementation can pass these tests before moving to the next task"
      ]
    },
    {
      "cell_type": "code",
      "execution_count": 2,
      "metadata": {
        "colab": {
          "base_uri": "https://localhost:8080/"
        },
        "id": "jaCpzc-l_Dr3",
        "outputId": "6fefb52a-492d-489a-aec3-156623dd939c"
      },
      "outputs": [
        {
          "name": "stdout",
          "output_type": "stream",
          "text": [
            "Loaded dataset with 649 samples\n"
          ]
        }
      ],
      "source": [
        "X_orig, T = dataset(\"por\")\n",
        "\n",
        "assert numpy.all(T >= 0) and numpy.all(T <= 20)\n",
        "\n",
        "assert X_orig.shape[0] == 27\n",
        "assert T.shape[0] == 3\n",
        "assert T.shape[1] == X_orig.shape[1]"
      ]
    },
    {
      "attachments": {},
      "cell_type": "markdown",
      "metadata": {
        "id": "dfk_P5eG_Dr3"
      },
      "source": [
        "### Task 2: Input Data Normalization (Min-Max)\n",
        "\n",
        "Since the data is in different input regimes, we want to normalize the data.\n",
        "For this purpose, we need to compute the minimum and the maximum of the data for each input dimension.\n",
        "Then, we implement a function to perform the normalization of the data using the previously computed minimum and maximum. Make sure that you handle the bias neuron $x_0$ correctly. The formula for min-max normalization is provided below:\n",
        "\n",
        "  $$\\forall d >= 1\\colon x_d^{\\text{norm}} = \\frac{x_d - \\min\\limits_{\\vec x'\\in \\mathbf X^T} x_d'}{\\max\\limits_{\\vec x'\\in \\mathbf X^T} x_d' - \\min\\limits_{\\vec x'\\in \\mathbf X^T} x_d'}$$"
      ]
    },
    {
      "cell_type": "code",
      "execution_count": 3,
      "metadata": {
        "id": "0bUpUAHR_Dr3"
      },
      "outputs": [],
      "source": [
        "# compute maximum and minimum over dataset\n",
        "min_val = [numpy.min(x) for x in X_orig[1:,:]]\n",
        "max_val = [numpy.max(x) for x in X_orig[1:,:]]\n",
        "# assure to handle x_0 correctly\n",
        "\n",
        "assert X_orig[0, 1] == numpy.ones_like(X_orig.shape[0])\n",
        "\n",
        "def normalize(x, min_val, max_val):\n",
        "  # normalize the given data with the given minimum and maximum values\n",
        "  for d in range(1,len(min_val)):\n",
        "    x[d,:] -= min_val[d]\n",
        "    x[d,:] /= numpy.subtract(max_val,min_val)[d]\n",
        "  return x\n",
        "\n",
        "# Normalize our dataset\n",
        "X = normalize(X_orig, min_val, max_val)\n",
        "assert X[0, 1] == numpy.ones_like(X_orig.shape[0])\n",
        "\n"
      ]
    },
    {
      "attachments": {},
      "cell_type": "markdown",
      "metadata": {
        "id": "6MZ_MPc-_Dr4"
      },
      "source": [
        "### Task 3: Batch Processing\n",
        "\n",
        "In order to run stochastic gradient descent, we need to split our dataset into batches of a certain batch size $B$. Implement a function that turns the dataset $(\\mathbf X, \\mathbf T)$ into batches of a certain batch size $B$.\n",
        "Implement this function as a generator function, i.e., use ``yield`` instead of ``return``.\n",
        "Circulate the dataset afresh when all data is consumed, and shuffle the data in each epoch.\n",
        "Make sure that you yield both the input batch and the target batch."
      ]
    },
    {
      "cell_type": "code",
      "execution_count": 4,
      "metadata": {
        "id": "GoDHo80J_Dr4"
      },
      "outputs": [],
      "source": [
        "def batch(X, T, batch_size=16):\n",
        "  N_batches = X.shape[1]//batch_size \n",
        "  inds = numpy.arange(X.shape[1])\n",
        "  while True:\n",
        "    for i in range(N_batches):\n",
        "      # shuffle dataset in each epoch\n",
        "      random.shuffle(inds)\n",
        "      batch_indices = inds[i*batch_size:(i+1)*batch_size]\n",
        "      X_batch = X[:,batch_indices]\n",
        "      T_batch = T[:,batch_indices]\n",
        "      yield X_batch, T_batch, (i % N_batches == 0)\n",
        "    \n",
        "    "
      ]
    },
    {
      "attachments": {},
      "cell_type": "markdown",
      "metadata": {
        "id": "NgBsBOsa_Dr4"
      },
      "source": [
        "### Test 2: Test your Batches\n",
        "\n",
        "This test is to assure that your batch generation function works as expected. \n",
        "We define some test data for this purpose.\n",
        "The code below checks whether your batch function returns batches with correct content, i.e., $(\\vec x, \\vec t)$-alignment. \n",
        "It also checks that the batches are in the correct dimensions, i.e., that $\\mathbf X \\in \\mathbb R^{(D+1)\\times B}$ and $\\mathbf T \\in \\mathbb R^{O\\times B}$.\n",
        "\n",
        "Make sure you can pass this test before moving forward."
      ]
    },
    {
      "cell_type": "code",
      "execution_count": 5,
      "metadata": {
        "id": "fFndxbf1_CmR"
      },
      "outputs": [],
      "source": [
        "XX = numpy.array([[i] * 5 for i in range(50)]).T\n",
        "TT = numpy.array([[i] for i in range(10,60)]).T\n",
        "\n",
        "for counter, (x,t,e) in enumerate(batch(XX, TT, 16)): ## what is the 3rd output ??\n",
        "  assert x.shape[0] == 5\n",
        "  assert x.shape[1] == 16\n",
        "  assert t.shape[0] == 1\n",
        "  assert t.shape[1] == 16\n",
        "  assert numpy.all(x == t-10)\n",
        "  assert e == (counter % 3 == 0)\n",
        "  if counter == 20: break\n",
        "  "
      ]
    },
    {
      "attachments": {},
      "cell_type": "markdown",
      "metadata": {
        "id": "0B8o_mE1l6mp"
      },
      "source": [
        "## Gradient Descent\n",
        "\n",
        "To train a two-layer multi-output regression network, we need to implement some functions.\n",
        "The network output is computed in three steps:\n",
        "\n",
        "  * Compute network activation for a batch of inputs $\\mathbf X$: $\\mathbf A = \\mathbf W^{(1)}\\mathbf X$\n",
        "  * Call the activation function element-wise: $\\mathbf H = g(\\mathbf A)$. Here, we rely on the logistic activation function $\\sigma$. Assure that the hidden neuron bias $\\mathbf H_{0,:}$ is set appropriately.\n",
        "  * Compute the output $\\mathbf Y$ of the batch: $\\mathbf Y = \\mathbf W^{(2)}\\mathbf H$."
      ]
    },
    {
      "attachments": {},
      "cell_type": "markdown",
      "metadata": {
        "id": "0pGCwC0L_Dr4"
      },
      "source": [
        "### Task 4: Multi-Output Network\n",
        "\n",
        "Implement a multi-target network that computes the output matrix $\\mathbf Y$ for a given input dataset/batch $\\mathbf X$ and given parameters $\\Theta=(\\mathbf W^{(1)}, \\mathbf W^{(2)})$ using `numpy` operations. \n",
        "The function should return both the output $\\mathbf Y$ and the output of the hidden units $\\mathbf H$ since we will need these in gradient descent. Select the logistic function $\\sigma$ as the activation function."
      ]
    },
    {
      "cell_type": "code",
      "execution_count": 6,
      "metadata": {
        "id": "j1gErN4z_Dr4"
      },
      "outputs": [],
      "source": [
        "def network(X, Theta):\n",
        "  W1, W2 = Theta\n",
        "  if len(X.shape) == 1: \n",
        "    X = X.reshape(-1, 1) \n",
        "  # compute activation\n",
        "  A = numpy.dot(W1,X)\n",
        "  # compute hidden unit output\n",
        "  H = 1./(numpy.add(numpy.ones_like(A),numpy.exp(-A)))\n",
        "  H = numpy.vstack((numpy.ones(A.shape[1]), H))\n",
        "  # compute network output\n",
        "  Y = numpy.dot(W2, H)\n",
        "  return Y, H"
      ]
    },
    {
      "attachments": {},
      "cell_type": "markdown",
      "metadata": {
        "id": "Zt0CMab4_Dr5"
      },
      "source": [
        "### Task 5: Loss Implementation\n",
        "\n",
        "Implement a loss function that returns the squared loss $\\mathcal J^{L_2} = \\frac1B \\|\\mathbf Y - \\mathbf T\\|_F^2$ for given network outputs $\\mathbf Y$ and target values $\\mathbf T$.\n",
        "Use `numpy` or `scipy` functionality for this task."
      ]
    },
    {
      "cell_type": "code",
      "execution_count": 7,
      "metadata": {
        "id": "RSwKiqIc_Dr5"
      },
      "outputs": [],
      "source": [
        "def loss(Y, T):\n",
        "  return 1./T.shape[1]*numpy.linalg.norm(numpy.subtract(Y,T))**2"
      ]
    },
    {
      "attachments": {},
      "cell_type": "markdown",
      "metadata": {
        "id": "fD2srCKN_Dr5"
      },
      "source": [
        "### Task 6: Gradient Implementation\n",
        "\n",
        "Implement a function that computes and returns the gradient for a given batch $(\\mathbf X, \\mathbf T)$, the given network outputs $\\mathbf Y$ and $\\mathbf H$ as well as current parameters $\\Theta=(\\mathbf W^{(1)}, \\mathbf W^{(2)})$.\n",
        "Make sure to compute the gradient with respect to both weight matrices. Remember that we have used $\\sigma$ as the activation function.\n",
        "Implement the function using the fast version provided in the lecture and make use of `numpy` operations."
      ]
    },
    {
      "cell_type": "code",
      "execution_count": 8,
      "metadata": {
        "id": "Qe8QYVnP_Dr5"
      },
      "outputs": [],
      "source": [
        "def gradient(X, T, Y, H, Theta):\n",
        "  W1, W2 = Theta\n",
        "  B = T.shape[1]\n",
        "  ONE = numpy.ones_like(H)\n",
        "  # first layer gradient\n",
        "  g1 = 2./B*numpy.dot(numpy.multiply(numpy.multiply(numpy.dot(W2.T, numpy.subtract(Y,T)), H), numpy.subtract(ONE, H)), X.T)\n",
        "  g1 = g1[1:, :]\n",
        "  # second layer gradient\n",
        "  g2 = 2./B*numpy.dot(numpy.subtract(Y,T), H.T)\n",
        "  return g1, g2"
      ]
    },
    {
      "attachments": {},
      "cell_type": "markdown",
      "metadata": {
        "id": "CpeCOHbE_Dr5"
      },
      "source": [
        "### Task 7: Iterative Gradient Descent\n",
        "\n",
        "\n",
        "Implement gradient descent for a given number of 10'000 epochs (**not batches!**) using given initial parameters $\\Theta$ and a given batch size $B$, as well as a learning rate of $\\eta=0.001$.\n",
        "\n",
        "Make use of the normalized dataset from Task 2, split into batches with the function from Task 3, the network from Task 4, the loss from Task 5, and the gradient from Task 6.\n",
        "\n",
        "Make sure that the network output $\\mathbf Y$ and the hidden unit output $\\mathbf H$ are computed only once for each batch. After applying gradient descent, add an option to use momentum learning with the given parameter `mu`.\n",
        "At the end of each epoch, compute and store the loss values for each batch in a list, and this list will be returned at the end.\n",
        "\n",
        "How many iterations do we need when $B < N$? How can you know whether your current batch is the last one of the current epoch?"
      ]
    },
    {
      "cell_type": "code",
      "execution_count": 9,
      "metadata": {
        "id": "QnuFqkg-82l2"
      },
      "outputs": [],
      "source": [
        "def gradient_descent(X, T, Theta, B, eta=0.001, mu=None):\n",
        "  \n",
        "  loss_values = []\n",
        "  Theta = numpy.array(Theta, dtype=object)\n",
        "  max_epochs = 10000\n",
        "  OPT = [Theta, Theta]\n",
        "  stop = False\n",
        "  # iterate over batches\n",
        "  for x,t,e in batch(X, T, batch_size=B):\n",
        "    for epoch in range(1,max_epochs+1):\n",
        "      # compute network output\n",
        "      Y, H = network(x, OPT[epoch])\n",
        "      # compute and append loss\n",
        "      err = loss(Y,t)\n",
        "      # compute gradient\n",
        "      grad = numpy.array(gradient(x, t, Y, H, OPT[epoch]), dtype=object)\n",
        "      # and apply gradient descent\n",
        "      if mu is None:\n",
        "        OPT_new = OPT[epoch]-eta*grad\n",
        "        OPT.append(OPT_new)\n",
        "      if mu is not None:\n",
        "        OPT_new = OPT[epoch] - eta*grad + mu*(OPT[epoch]-OPT[epoch-1])\n",
        "        OPT.append(OPT_new)\n",
        "      if e:\n",
        "        loss_values.append(err)\n",
        "      if len(loss_values)>= max_epochs:\n",
        "        stop = True\n",
        "    if stop:\n",
        "      break\n",
        "  # return the obtained loss values at the end\n",
        "  return loss_values, OPT[-1]"
      ]
    },
    {
      "attachments": {},
      "cell_type": "markdown",
      "metadata": {
        "id": "NIvoljpW_Dr5"
      },
      "source": [
        "### Task 8: Run Gradient Descent\n",
        "\n",
        "Select an appropriate number of hidden neurons $K$.\n",
        "Instantiate the weight matrices $\\Theta=(\\mathbf W^{(1)}, \\mathbf W^{(2)})$ using the Xavier method as introduced in the lecture.\n",
        "\n",
        "Run the gradient descent three times, first as normal gradient descent, second as stochastic gradient descent with batch size $B=16$, and third with the same setup as the second but with momentum learning involved, select $\\mu =0.9$.\n",
        "\n",
        "How can you achieve this without requiring separate implementations of the ``gradient_descent`` function from Task 7?"
      ]
    },
    {
      "cell_type": "code",
      "execution_count": 15,
      "metadata": {
        "id": "r4BnX1m8_Dr6"
      },
      "outputs": [
        {
          "name": "stdout",
          "output_type": "stream",
          "text": [
            "[array([[ 1.52092703e-02,  7.04623714e-01,  1.27843333e-01,\n",
            "          1.93422697e-01,  3.16136910e-01,  5.48667088e-02,\n",
            "          5.00565679e-02,  5.98690578e-01,  2.13109372e+00,\n",
            "         -6.72873337e-01,  2.14296322e-01, -5.17600068e-01,\n",
            "          2.89793799e-01, -3.59202822e-02,  1.11194120e-01,\n",
            "         -2.04122964e+00,  3.39705213e-01,  2.18666511e-01,\n",
            "         -7.64061237e-01, -9.25088604e-01,  1.79750773e-01,\n",
            "         -8.63803213e-01, -9.98461008e-01,  4.28560987e-01,\n",
            "         -4.69328934e-01, -3.45979120e-01,  3.49640082e-02],\n",
            "        [-1.48528933e-01,  7.37703485e-01, -1.38965756e-01,\n",
            "         -8.38816383e-01,  1.50185320e-01,  2.31441080e-01,\n",
            "          2.69678542e-02,  2.87542053e-01,  3.90170635e-01,\n",
            "         -2.46188439e-01,  6.68466392e-01, -1.48128042e+00,\n",
            "         -5.67690489e-01, -1.40803602e-01, -2.34056365e-01,\n",
            "          8.04833924e-02, -4.61372989e-02,  8.86333617e-01,\n",
            "          1.63819591e-01, -1.79299688e-01,  3.70916642e-02,\n",
            "         -2.89244207e-01, -7.71703801e-02, -5.54063542e-01,\n",
            "         -4.76983376e-01, -1.51313600e-01, -3.18991703e-01],\n",
            "        [ 5.04630665e-02,  1.60806284e-02, -9.85270760e-02,\n",
            "          4.21542378e-01,  1.96488409e-02,  1.90640605e-02,\n",
            "          9.32817796e-03,  3.10575756e-02,  1.69047439e-02,\n",
            "          1.00832813e-02,  1.58605361e-02,  4.86850261e-02,\n",
            "          6.07443241e-03,  5.88426514e-03,  7.97706743e-03,\n",
            "          1.88163757e-02,  4.90491759e-02,  2.42484980e-02,\n",
            "          2.86888576e-02, -1.52899203e-02,  2.61198527e-02,\n",
            "          3.80918855e-02,  3.71831726e-02,  1.45271679e-02,\n",
            "          3.22792762e-02,  6.89968918e-03,  1.28286192e-01],\n",
            "        [-2.12421591e-01,  4.45390580e-01, -4.04540793e-03,\n",
            "         -1.07953897e+00, -9.42223408e-02,  2.08503446e-01,\n",
            "          3.58815169e-02,  1.19960103e-01,  2.20560541e-01,\n",
            "         -1.22545549e-01,  4.62753290e-01, -1.34275033e+00,\n",
            "         -6.54539788e-01, -1.32159254e-01, -2.93003233e-01,\n",
            "         -1.08314274e-01, -2.00983225e-01,  6.40920666e-01,\n",
            "         -2.53208142e-03, -1.28875563e-01, -8.28885812e-02,\n",
            "         -3.73660452e-01, -2.65601042e-02, -4.06763292e-01,\n",
            "         -2.70925468e-01, -1.55778472e-01, -4.59787997e-01],\n",
            "        [ 1.33188090e-02,  3.61023386e-02,  1.78250444e-02,\n",
            "          1.26373311e-01,  1.18624123e+00,  2.88815318e+00,\n",
            "          6.29689651e-01,  7.97997767e-02, -4.80594590e-01,\n",
            "          5.79540056e-01, -1.05773787e+00, -7.70383089e-02,\n",
            "         -4.81667137e-02, -6.60373019e-01,  5.41560141e-01,\n",
            "          1.73290085e+00,  8.10184631e-01, -1.90594648e+00,\n",
            "         -6.69304337e-01, -4.75826947e-01, -7.17488424e-01,\n",
            "         -2.02829993e-01,  1.29947702e+00, -3.42992504e-02,\n",
            "         -1.74398039e-01, -2.55232501e-01, -1.41449390e+00],\n",
            "        [-4.50158532e-02, -2.35384850e-02,  8.18659882e-02,\n",
            "         -3.72956421e-01, -2.15293786e-02, -8.33934947e-03,\n",
            "         -5.31858037e-03, -3.08506435e-02, -2.17746815e-02,\n",
            "         -6.74195998e-03, -1.31284436e-02, -4.47995329e-02,\n",
            "         -1.35769598e-02, -2.21123208e-03, -5.48087576e-03,\n",
            "         -1.68723823e-02, -4.48859846e-02, -3.44809725e-02,\n",
            "         -3.33346192e-02,  1.47071766e-02, -3.34668267e-02,\n",
            "         -3.65872142e-02, -2.35704639e-02, -1.20778231e-02,\n",
            "         -2.74313656e-02, -6.92715981e-03, -2.12169137e-01],\n",
            "        [ 7.14170565e-02,  9.64041226e-02, -1.89619744e-01,\n",
            "          6.31223844e-01,  8.00399710e-02,  3.74303225e-02,\n",
            "          2.68477633e-02,  1.02373756e-01,  7.90486394e-02,\n",
            "         -8.43472346e-03,  1.10080557e-01, -7.07611095e-02,\n",
            "         -4.63816389e-02,  6.43763462e-02, -1.26375830e-02,\n",
            "          3.49643648e-02,  4.63901372e-02,  1.42989904e-01,\n",
            "          5.21362478e-02, -4.76317815e-02,  4.73037401e-02,\n",
            "          2.10590296e-02,  4.52756235e-02, -2.49695076e-02,\n",
            "         -8.41011928e-03, -2.03295730e-03,  2.50875148e-02],\n",
            "        [-1.54270851e-01,  3.95247442e-01, -2.69170566e-02,\n",
            "         -8.14321107e-01, -2.88337965e-02,  1.54287238e-01,\n",
            "          2.58444714e-02,  1.04604908e-01,  1.95256669e-01,\n",
            "         -7.96276722e-02,  4.29024871e-01, -1.04493434e+00,\n",
            "         -4.40708765e-01, -4.77665317e-03, -2.19787109e-01,\n",
            "         -2.36959642e-02, -1.62407849e-01,  5.24874006e-01,\n",
            "         -5.48092751e-02, -1.21343169e-01, -3.64519567e-02,\n",
            "         -2.94899706e-01, -5.04240439e-02, -3.22988594e-01,\n",
            "         -2.68692344e-01, -1.20510829e-01, -4.58129596e-01],\n",
            "        [ 5.28355526e-02, -8.98663376e-01,  8.09239059e-01,\n",
            "         -2.69969048e-01, -4.59816350e-01, -1.73874335e+00,\n",
            "          2.14751363e-01, -2.72265365e-01,  1.38617712e+00,\n",
            "         -1.53039790e-01, -2.62625547e-01,  9.37889815e-01,\n",
            "          5.36912086e-01,  1.38675052e+00,  8.92721763e-01,\n",
            "         -3.50977241e+00,  1.63169826e-01, -1.37693114e-01,\n",
            "         -7.31644286e-01, -1.63409206e+00,  7.17970275e-01,\n",
            "          4.73496703e-02, -5.84124882e-01,  1.20083057e+00,\n",
            "          1.50904961e+00, -2.01937039e-01,  7.35038065e-01],\n",
            "        [ 6.06997146e-02,  9.80946952e-02, -1.57841983e-01,\n",
            "          4.54988774e-01,  7.15292945e-02,  4.40484372e-02,\n",
            "          4.07093789e-02,  9.88979268e-02,  8.89410556e-02,\n",
            "         -2.15348077e-02,  1.20326866e-01, -9.68747840e-02,\n",
            "         -4.53890213e-02,  6.33186227e-02, -5.20720441e-03,\n",
            "          7.58774580e-03,  4.87400755e-02,  1.18476390e-01,\n",
            "          8.55083293e-03, -6.77979724e-02,  2.10631114e-02,\n",
            "          1.96375762e-02,  4.56602011e-02, -1.51774774e-02,\n",
            "          1.78190553e-03, -7.36171957e-03, -2.74798745e-01],\n",
            "        [ 1.27280950e-01, -3.97754382e-01, -4.12097325e-01,\n",
            "         -2.25260298e-01,  4.47769661e-01,  1.99894937e+00,\n",
            "          4.87810671e-01, -2.90678809e-02, -7.23964822e-01,\n",
            "          3.31938497e-01, -6.24583914e-01, -2.55085962e-02,\n",
            "         -8.72164729e-02, -5.09492237e-01,  2.80879369e-01,\n",
            "          4.28728560e-01,  9.60233841e-01, -1.95273624e+00,\n",
            "         -8.56209895e-01, -3.97789944e-01, -9.77796941e-01,\n",
            "          2.55737783e-01,  9.80347011e-01, -6.74529862e-02,\n",
            "         -4.57247985e-01, -2.12278878e-01, -1.11653416e+00],\n",
            "        [-1.32337357e-01,  4.50886618e-02,  8.06070875e-02,\n",
            "         -7.35783921e-01, -1.18085996e-01,  5.98222309e-02,\n",
            "          2.66294146e-02, -1.90384326e-02, -1.33786414e-02,\n",
            "         -7.02929290e-03,  1.46865959e-01, -5.62093215e-01,\n",
            "         -3.01021233e-01, -4.71162336e-02, -1.30965477e-01,\n",
            "         -5.57205229e-02, -1.51630907e-01,  1.69015179e-01,\n",
            "         -8.94613374e-02, -3.80185709e-02, -8.19611834e-02,\n",
            "         -1.57440953e-01,  2.18897827e-02, -1.27523492e-01,\n",
            "         -8.19984330e-02, -6.96657502e-02, -2.79458078e-01],\n",
            "        [-7.41569687e-02, -9.79547099e-03,  1.31544267e-01,\n",
            "         -6.01714565e-01, -4.58845428e-02, -1.16746032e-02,\n",
            "         -5.39320817e-03, -3.17948551e-02, -2.15802843e-02,\n",
            "         -2.23028592e-02, -2.16634633e-02, -1.00414117e-01,\n",
            "         -3.99273905e-02, -2.57874097e-02, -1.88306941e-02,\n",
            "         -2.75214665e-02, -4.60670386e-02, -2.53466874e-02,\n",
            "         -3.75547807e-02,  5.84615200e-03, -4.19750649e-02,\n",
            "         -6.26865880e-02, -4.84104044e-02, -2.87736816e-02,\n",
            "         -4.32497712e-02, -1.51648118e-02, -2.91504071e-01],\n",
            "        [-5.02986459e-02, -2.60389343e-02,  9.12453482e-02,\n",
            "         -4.27178279e-01, -1.63305339e-02, -1.34497865e-02,\n",
            "         -4.15099935e-03, -3.63489753e-02, -2.16812804e-02,\n",
            "         -7.06521052e-03, -1.20374245e-02, -5.28558974e-02,\n",
            "         -1.05188739e-02,  8.81284486e-03, -7.23519369e-03,\n",
            "         -2.02089169e-02, -4.81999083e-02, -3.41408715e-02,\n",
            "         -4.45441488e-02,  1.71937848e-02, -3.64677808e-02,\n",
            "         -3.71023933e-02, -2.00970370e-02, -1.13711500e-02,\n",
            "         -2.86267223e-02, -7.33528594e-03, -1.61477327e-01],\n",
            "        [-9.88647469e-02,  1.16717337e-02,  1.07846410e-01,\n",
            "         -6.42459605e-01, -5.33122532e-02, -1.49593553e-02,\n",
            "          4.20610639e-03, -3.39731067e-02,  2.64978846e-04,\n",
            "         -1.63811944e-02,  4.06476516e-02, -2.64517868e-01,\n",
            "         -8.69624929e-02, -8.07954739e-03, -4.37153998e-02,\n",
            "         -2.72211039e-02, -1.55850905e-01,  4.05630063e-02,\n",
            "         -5.56044319e-02, -1.88512358e-02, -4.25997772e-02,\n",
            "         -1.03964397e-01, -5.45421845e-02, -8.69999822e-02,\n",
            "         -1.09862037e-01, -3.66848065e-02, -2.59803286e-01],\n",
            "        [-1.77926189e-01,  6.68148901e-01, -8.57191536e-02,\n",
            "         -1.00122420e+00,  9.60895286e-02,  2.50838934e-01,\n",
            "         -6.29210009e-03,  2.34022641e-01,  3.21658533e-01,\n",
            "         -2.33079939e-01,  6.47603296e-01, -1.48030920e+00,\n",
            "         -6.18726431e-01, -1.12504755e-01, -2.70841834e-01,\n",
            "         -7.05458354e-03, -7.13324409e-02,  8.41326095e-01,\n",
            "          1.09018518e-01, -1.44591455e-01, -8.77597527e-03,\n",
            "         -3.21261287e-01, -7.26509189e-02, -5.41385103e-01,\n",
            "         -4.45429005e-01, -1.62239729e-01, -4.34880811e-01],\n",
            "        [-1.42563138e-01,  6.11614087e-02,  9.06218344e-02,\n",
            "         -7.65694827e-01, -1.00778220e-01,  3.53570694e-02,\n",
            "          2.85613005e-02, -3.30452177e-02, -8.56055675e-03,\n",
            "          8.13955323e-03,  1.40199114e-01, -5.71172548e-01,\n",
            "         -2.72968581e-01,  1.25211210e-03, -1.32758768e-01,\n",
            "         -5.54767779e-02, -2.15352402e-01,  1.71092150e-01,\n",
            "         -9.18150760e-02, -4.51183543e-02, -6.61928543e-02,\n",
            "         -1.80630379e-01, -5.24148567e-02, -1.69810127e-01,\n",
            "         -1.68734751e-01, -7.36130285e-02, -2.19553242e-01],\n",
            "        [-1.17478395e-01, -5.70314134e-02,  2.19170472e-01,\n",
            "         -9.59300683e-01, -6.76615495e-02, -3.45310942e-02,\n",
            "         -1.85270578e-02, -7.25810447e-02, -4.94408234e-02,\n",
            "         -2.29981156e-02, -4.55327416e-02, -1.09945637e-01,\n",
            "         -3.18326595e-02, -3.82922673e-02, -2.16219626e-02,\n",
            "         -4.34600533e-02, -1.10030070e-01, -7.07225526e-02,\n",
            "         -6.88074919e-02,  3.93952994e-02, -8.05195897e-02,\n",
            "         -8.43882450e-02, -8.09505862e-02, -3.61434306e-02,\n",
            "         -7.32450387e-02, -1.85713669e-02, -4.58824917e-01],\n",
            "        [-8.29951742e-02, -1.48060391e-02,  1.39005812e-01,\n",
            "         -6.62376841e-01, -4.32359560e-02, -2.31886047e-02,\n",
            "         -7.45728388e-03, -3.71669463e-02, -9.84946276e-03,\n",
            "         -2.74930623e-02, -1.87582635e-02, -1.21509402e-01,\n",
            "         -3.60279184e-02, -2.88645822e-02, -2.30816104e-02,\n",
            "         -2.38141616e-02, -1.00689713e-01, -3.16680704e-02,\n",
            "         -4.88172235e-02,  7.41999424e-03, -5.78730958e-02,\n",
            "         -6.76479270e-02, -5.53474412e-02, -3.24639805e-02,\n",
            "         -5.20174040e-02, -1.69838588e-02, -3.43203104e-01],\n",
            "        [-1.32345501e-01,  3.28808483e-01, -1.18103998e-02,\n",
            "         -7.57300380e-01,  5.64558462e-02,  1.38573882e-01,\n",
            "          3.00452425e-02,  1.40661423e-01,  1.74696734e-01,\n",
            "         -1.25855259e-01,  3.67294169e-01, -9.14949806e-01,\n",
            "         -4.98994414e-01, -8.86732907e-02, -2.05966738e-01,\n",
            "          1.67709485e-02, -1.02564065e-01,  4.77039059e-01,\n",
            "          1.92245153e-02, -8.77748881e-02, -6.05909783e-02,\n",
            "         -2.02909024e-01,  1.14462008e-03, -2.94174393e-01,\n",
            "         -2.12799084e-01, -1.01321396e-01, -3.54670540e-01]])\n",
            " array([[ 0.14415162, -0.27902774,  1.89728735, -0.04272784,  0.93995423,\n",
            "         -2.01236184,  0.37987118,  0.05540983,  1.22618545, -4.30953912,\n",
            "          0.3471932 , -3.67656141,  0.5915173 ,  0.67166739,  0.2432617 ,\n",
            "          0.95262427,  1.80378552,  0.51113107,  0.68444525,  0.59702531,\n",
            "          1.3388041 ],\n",
            "        [-0.05101924, -1.9614135 ,  1.85301274, -0.13765787,  0.96521146,\n",
            "         -3.21910748,  0.20230568, -0.1157149 ,  1.25365259, -4.5843722 ,\n",
            "         -0.09937126, -1.04824972,  0.50694518,  0.50724206,  0.06245958,\n",
            "          0.85148283,  1.80125896,  0.42959213,  0.51901865,  0.4453583 ,\n",
            "          1.28817019],\n",
            "        [-0.11646615, -0.88032399,  2.02457279, -0.17080918,  1.06596237,\n",
            "         -3.79875719,  0.15375146, -0.21676012,  1.38316085, -5.02796677,\n",
            "         -0.24286336, -0.17024893,  0.53179895,  0.45581459,  0.00935782,\n",
            "          0.85778311,  1.96239056,  0.46013918,  0.47983086,  0.41032927,\n",
            "          1.36577822]])                                                  ]\n"
          ]
        }
      ],
      "source": [
        "K = 20\n",
        "D = 26\n",
        "O = 3\n",
        "W1 = numpy.random.uniform(-1./numpy.sqrt(D), 1./numpy.sqrt(D), (K, D+1))\n",
        "W2 = numpy.random.uniform(-1./numpy.sqrt(K), 1./numpy.sqrt(K), (O, K+1))\n",
        "Theta = [W1, W2]\n",
        "\n",
        "import copy\n",
        "\n",
        "# run gradient descent with full dataset\n",
        "#Theta1 = copy.deepcopy(Theta)\n",
        "GD,Theta1 = gradient_descent(X, T, Theta, B=X.shape[1])\n",
        "# run stochastic gradient descent with batches of size 16\n",
        "# Theta2 = copy.deepcopy(Theta)\n",
        "SGD, Theta2 = gradient_descent(X, T, Theta, B=16)\n",
        "# # run stochastic gradient descent with batches of size 16 and momentum mu=0.9\n",
        "# Theta3 = copy.deepcopy(Theta)\n",
        "SGD_Mo, Theta3 = gradient_descent(X, T, Theta, B=16, mu=0.9)\n",
        "\n",
        "print(numpy.subtract(Theta1, Theta3))\n",
        "\n"
      ]
    },
    {
      "cell_type": "markdown",
      "metadata": {
        "id": "Mi5Wt88CnsNB"
      },
      "source": [
        "## Evaluation\n",
        "\n",
        "Finally, we want to evaluate how the learning process went and what the network has actually learned.\n",
        "For the former, we will plot the loss values obtained during training.\n",
        "For the latter, we define one specific sample of our own, and we evaluate the impact of several factors on the performance."
      ]
    },
    {
      "cell_type": "markdown",
      "metadata": {
        "id": "t1CGUw7k_Dr6"
      },
      "source": [
        "### Task 9: Plotting Loss Progression\n",
        "\n",
        "To show the learning process of the networks, plot the loss values of the three gradient descent steps from Task 8 together into one plot.\n",
        "Do we need to take care of something when plotting both together?\n",
        "\n",
        "Use logarithmic axes wherever you see fit.\n",
        "An exemplary loss progression plot can be found in the slides.\n",
        "\n"
      ]
    },
    {
      "cell_type": "code",
      "execution_count": 11,
      "metadata": {
        "id": "wMFMvuRg_Dr6"
      },
      "outputs": [
        {
          "data": {
            "text/plain": [
              "<matplotlib.legend.Legend at 0x7fdc100a35b0>"
            ]
          },
          "execution_count": 11,
          "metadata": {},
          "output_type": "execute_result"
        },
        {
          "data": {
            "image/png": "[encoded data removed]",
            "text/plain": [
              "<Figure size 432x288 with 1 Axes>"
            ]
          },
          "metadata": {
            "needs_background": "light"
          },
          "output_type": "display_data"
        }
      ],
      "source": [
        "from matplotlib import pyplot\n",
        "epochs = numpy.linspace(0, 10000, 10000)\n",
        "pyplot.plot(epochs, SGD, \"b-\", label=\"Stochastic Gradient Descent\")\n",
        "pyplot.plot(epochs, SGD_Mo, \"r-\", label=\"Stochastic Gradient Descent with Momentum\")\n",
        "pyplot.plot(epochs, GD, \"g-\", label=\"Gradient Descent\")\n",
        "pyplot.xscale('log')\n",
        "pyplot.yscale('log')\n",
        "pyplot.xlabel('Epochs')\n",
        "pyplot.ylabel('Loss')\n",
        "pyplot.legend()"
      ]
    },
    {
      "attachments": {},
      "cell_type": "markdown",
      "metadata": {
        "id": "sDJp99mK_Dr6"
      },
      "source": [
        "### Task 10: Best and Worst Performers\n",
        "\n",
        "We want to see what the network has learned.\n",
        "Therefore, we evaluate the best student in our dataset as well as the worst student based on their average grade. \n",
        "The best student would be the one with the highest average of the 3 outputs from the model and the worst student would be the one with the lowest average of the 3 outputs from the model.\n",
        "We will look into the features that represent the best student and the worst. \n",
        "\n",
        "Remember that input data need to be normalized before feeding it to the network. "
      ]
    },
    {
      "cell_type": "code",
      "execution_count": 17,
      "metadata": {},
      "outputs": [
        {
          "name": "stdout",
          "output_type": "stream",
          "text": [
            "Best student index is 338 with an avarage of 18.666666666666668\n",
            "The network predicts the index 133 with an avarage of [15.25277782]\n",
            "#######################\n",
            "Worst student index is 567 with an avarage of 1.3333333333333333\n",
            "The network predicts the index 428 with an avarage of [7.68061653]\n"
          ]
        }
      ],
      "source": [
        "# Variables to store your info on best and worst student\n",
        "best_student_idx = numpy.argmax(numpy.sum(T ,axis=0)) # Index of the top student from the dataset\n",
        "worst_student_idx = numpy.argmin(numpy.sum(T ,axis=0)) # Index of the bottom student from the dataset\n",
        "current_best_score = numpy.sum(T[:,best_student_idx], axis=0)/3. # Best average score of the top student\n",
        "current_worst_score = numpy.sum(T[:,worst_student_idx] ,axis=0)/3. # Worst average score of the bottom student\n",
        "\n",
        "\n",
        "best_pred_indx = None \n",
        "worst_pred_indx = None \n",
        "best_avarage = 0\n",
        "worst_avarage = 20.\n",
        "\n",
        "# Iterate over the whole dataset\n",
        "for i, x in enumerate(X.T): \n",
        "    # compute network predictions\n",
        "    prediction, _ = network(x,Theta3)\n",
        "\n",
        "    # Take the average of the predictions\n",
        "    avg = numpy.sum(prediction, axis=0)/3.\n",
        "    # Check for top student. (Save their index and their average scores)\n",
        "    if best_avarage < avg:\n",
        "        best_avarage = avg\n",
        "        best_pred_indx = i\n",
        "    # Check for bottom student. (Save their index and their average scores)\n",
        "    if worst_avarage > avg:\n",
        "        worst_avarage = avg\n",
        "        worst_pred_indx = i\n",
        "print(\"Best student index is\", best_student_idx, \"with an avarage of\", current_best_score)\n",
        "print(\"The network predicts the index\", best_pred_indx, \"with an avarage of\", best_avarage)\n",
        "print(\"#######################\")\n",
        "print(\"Worst student index is\", worst_student_idx, \"with an avarage of\", current_worst_score)\n",
        "print(\"The network predicts the index\", worst_pred_indx, \"with an avarage of\", worst_avarage)"
      ]
    },
    {
      "cell_type": "markdown",
      "metadata": {},
      "source": [
        "##### Use the code below to see the features of top and bottom student in a table."
      ]
    },
    {
      "cell_type": "code",
      "execution_count": 18,
      "metadata": {},
      "outputs": [
        {
          "data": {
            "text/html": [
              "<div>\n",
              "<style scoped>\n",
              "    .dataframe tbody tr th:only-of-type {\n",
              "        vertical-align: middle;\n",
              "    }\n",
              "\n",
              "    .dataframe tbody tr th {\n",
              "        vertical-align: top;\n",
              "    }\n",
              "\n",
              "    .dataframe thead th {\n",
              "        text-align: right;\n",
              "    }\n",
              "</style>\n",
              "<table border=\"1\" class=\"dataframe\">\n",
              "  <thead>\n",
              "    <tr style=\"text-align: right;\">\n",
              "      <th></th>\n",
              "      <th>BIAS</th>\n",
              "      <th>School</th>\n",
              "      <th>Gender</th>\n",
              "      <th>Age</th>\n",
              "      <th>Address</th>\n",
              "      <th>Small family</th>\n",
              "      <th>Parents Living Together</th>\n",
              "      <th>Mother with higher education</th>\n",
              "      <th>Father with secondary education</th>\n",
              "      <th>Travel time</th>\n",
              "      <th>Study time</th>\n",
              "      <th>Failures</th>\n",
              "      <th>School Support</th>\n",
              "      <th>Family Support</th>\n",
              "      <th>Additional Classes</th>\n",
              "      <th>Out-of-school activities</th>\n",
              "      <th>Nursery school</th>\n",
              "      <th>Higher education</th>\n",
              "      <th>Internet access</th>\n",
              "      <th>Romantic Relationship</th>\n",
              "      <th>Good relation with family</th>\n",
              "      <th>Free time</th>\n",
              "      <th>Goes out with peers</th>\n",
              "      <th>Workday alcohol consumption</th>\n",
              "      <th>Weekend alcohol consumption</th>\n",
              "      <th>Current health status</th>\n",
              "      <th>Absences</th>\n",
              "      <th>Average Score</th>\n",
              "    </tr>\n",
              "  </thead>\n",
              "  <tbody>\n",
              "    <tr>\n",
              "      <th>0</th>\n",
              "      <td>1.0</td>\n",
              "      <td>1.0</td>\n",
              "      <td>-2.285714</td>\n",
              "      <td>9.0</td>\n",
              "      <td>0.0</td>\n",
              "      <td>1.0</td>\n",
              "      <td>0.25</td>\n",
              "      <td>0.75</td>\n",
              "      <td>0.000000</td>\n",
              "      <td>0.333333</td>\n",
              "      <td>1.333333</td>\n",
              "      <td>0.5</td>\n",
              "      <td>0.0</td>\n",
              "      <td>1.0</td>\n",
              "      <td>0.0</td>\n",
              "      <td>0.0</td>\n",
              "      <td>1.0</td>\n",
              "      <td>1.0</td>\n",
              "      <td>0.0</td>\n",
              "      <td>-0.5</td>\n",
              "      <td>0.50</td>\n",
              "      <td>0.0</td>\n",
              "      <td>0.25</td>\n",
              "      <td>0.00</td>\n",
              "      <td>0.00</td>\n",
              "      <td>0.09375</td>\n",
              "      <td>0.0</td>\n",
              "      <td>18.666667</td>\n",
              "    </tr>\n",
              "    <tr>\n",
              "      <th>1</th>\n",
              "      <td>1.0</td>\n",
              "      <td>0.0</td>\n",
              "      <td>-2.000000</td>\n",
              "      <td>9.5</td>\n",
              "      <td>0.0</td>\n",
              "      <td>0.0</td>\n",
              "      <td>0.25</td>\n",
              "      <td>0.75</td>\n",
              "      <td>0.333333</td>\n",
              "      <td>0.000000</td>\n",
              "      <td>0.333333</td>\n",
              "      <td>1.0</td>\n",
              "      <td>0.0</td>\n",
              "      <td>0.0</td>\n",
              "      <td>0.0</td>\n",
              "      <td>0.0</td>\n",
              "      <td>1.0</td>\n",
              "      <td>0.0</td>\n",
              "      <td>1.0</td>\n",
              "      <td>-0.5</td>\n",
              "      <td>0.25</td>\n",
              "      <td>0.5</td>\n",
              "      <td>0.00</td>\n",
              "      <td>0.25</td>\n",
              "      <td>0.25</td>\n",
              "      <td>0.15625</td>\n",
              "      <td>0.0</td>\n",
              "      <td>1.333333</td>\n",
              "    </tr>\n",
              "  </tbody>\n",
              "</table>\n",
              "</div>"
            ],
            "text/plain": [
              "   BIAS  School    Gender  Age  Address  Small family  \\\n",
              "0   1.0     1.0 -2.285714  9.0      0.0           1.0   \n",
              "1   1.0     0.0 -2.000000  9.5      0.0           0.0   \n",
              "\n",
              "   Parents Living Together  Mother with higher education  \\\n",
              "0                     0.25                          0.75   \n",
              "1                     0.25                          0.75   \n",
              "\n",
              "   Father with secondary education  Travel time  Study time  Failures  \\\n",
              "0                         0.000000     0.333333    1.333333       0.5   \n",
              "1                         0.333333     0.000000    0.333333       1.0   \n",
              "\n",
              "   School Support  Family Support  Additional Classes  \\\n",
              "0             0.0             1.0                 0.0   \n",
              "1             0.0             0.0                 0.0   \n",
              "\n",
              "   Out-of-school activities  Nursery school  Higher education  \\\n",
              "0                       0.0             1.0               1.0   \n",
              "1                       0.0             1.0               0.0   \n",
              "\n",
              "   Internet access  Romantic Relationship  Good relation with family  \\\n",
              "0              0.0                   -0.5                       0.50   \n",
              "1              1.0                   -0.5                       0.25   \n",
              "\n",
              "   Free time  Goes out with peers  Workday alcohol consumption  \\\n",
              "0        0.0                 0.25                         0.00   \n",
              "1        0.5                 0.00                         0.25   \n",
              "\n",
              "   Weekend alcohol consumption  Current health status  Absences  Average Score  \n",
              "0                         0.00                0.09375       0.0      18.666667  \n",
              "1                         0.25                0.15625       0.0       1.333333  "
            ]
          },
          "execution_count": 18,
          "metadata": {},
          "output_type": "execute_result"
        }
      ],
      "source": [
        "# Save the best and worst student featuers\n",
        "best_student = X_orig[:, best_student_idx]\n",
        "worst_student = X_orig[:, worst_student_idx]\n",
        "\n",
        "# Append the average prediction in the above arrays for both students\n",
        "best_student_with_score = numpy.append(best_student, current_best_score)\n",
        "worst_student_with_score = numpy.append(worst_student, current_worst_score)\n",
        "\n",
        "# This is for your visualization purpose only. It will show you the top and bottom student in a tabular format.\n",
        "import pandas as pd\n",
        "\n",
        "# Set the option to display all columns\n",
        "pd.set_option('display.max_columns', None)\n",
        "\n",
        "#Just for visualization purposes\n",
        "columns = [\"BIAS\", \"School\", \"Gender\", \"Age\", \"Address\", \"Small family\", \"Parents Living Together\", \"Mother with higher education\", \"Father with secondary education\",\n",
        "           \"Travel time\", \"Study time\", \"Failures\", \"School Support\", \"Family Support\", \"Additional Classes\", \"Out-of-school activities\",\n",
        "           \"Nursery school\", \"Higher education\", \"Internet access\", \"Romantic Relationship\", \"Good relation with family\", \"Free time\",\n",
        "           \"Goes out with peers\", \"Workday alcohol consumption\", \"Weekend alcohol consumption\", \"Current health status\",\n",
        "           \"Absences\", \"Average Score\"]\n",
        "\n",
        "# Initialize an empty DataFrame with the specified columns\n",
        "df = pd.DataFrame(numpy.vstack([best_student_with_score, worst_student_with_score]), columns=columns)\n",
        "df"
      ]
    },
    {
      "attachments": {},
      "cell_type": "markdown",
      "metadata": {
        "id": "9lB1b-8V_Dr6"
      },
      "source": [
        "### Task 11: Influence of Data Dimensions (Optional)\n",
        "\n",
        "\n",
        "For some dimensions in the input feature $\\vec x$, we want to test how different input values for this dimension would influence the outcome.\n",
        "Particularly, we test:\n",
        "\n",
        "  * Weekly study time at index $d=10$: vary in the range $[1,4]$ \n",
        "  * Past Failures at index $d=11$: vary in range $[0,3]$ \n",
        "  * Romantic relations at index $d=19$: change between yes ($1$) and no ($-1$)\n",
        "  * Weekday alcohol consumption at index $d=23$: varies in the range $[1,6]$.\n",
        "  * Absences at index $d=26$: vary with following values $[0,10,20,30]$.\n",
        "\n",
        "Note that the indexes include the fact that we are omitting some input dimensions, so they might differ from what is listed on the webpage.\n",
        "\n",
        "Check how the performance changes if the above features are changed for the best student and the worst student. \n",
        "\n",
        "Did the average increase or decrease? Did you expect this output?"
      ]
    },
    {
      "cell_type": "code",
      "execution_count": 19,
      "metadata": {
        "id": "buTufJpd_Dr6"
      },
      "outputs": [
        {
          "name": "stdout",
          "output_type": "stream",
          "text": [
            "The avarage of the best student was 18.666666666666668 now is: 9.408274578775861\n",
            "The avarage of the worst student was 1.3333333333333333 now is: 6.643271459249985\n"
          ]
        }
      ],
      "source": [
        "# implement a way to modify the input at a given index with certain values\n",
        "# and to predict and print the network output for this modification\n",
        "def change_values(data,row , idx, range_type, R):\n",
        "    if range_type == \"cont\":\n",
        "        data.iloc[row, idx] = numpy.random.uniform(R[0], R[1])\n",
        "    elif range_type == \"disc\":\n",
        "        data.iloc[row, idx] = numpy.random.choice(R)\n",
        "        \n",
        "R = [[1,4], [0, 3], [-0.5, 0.5], [1,6], [0, 10, 20, 30]] ## romantic relations seems to be -0.5 or 0.5\n",
        "style = numpy.array([\"cont\", \"cont\", \"disc\", \"cont\", \"disc\"])\n",
        "for i,d in enumerate([10, 11, 19, 23, 26]):\n",
        "    for j in range(2):\n",
        "        change_values(df,j, d,style[i], R[i])\n",
        "df.head()\n",
        "# run this with the 5 modifications and their according to values as seen above for both top and bottom student\n",
        "\n",
        "\n",
        "\n",
        "new_grades_best = network(df.iloc[0, 1:].values.T, Theta3)[0]\n",
        "new_grades_worst = network(df.iloc[1, 1:].values.T, Theta3)[0]\n",
        "\n",
        "print(\"The avarage of the best student was\", current_best_score , \"now is:\", numpy.average(new_grades_best))\n",
        "print(\"The avarage of the worst student was\", current_worst_score , \"now is:\", numpy.average(new_grades_worst))"
      ]
    },
    {
      "cell_type": "code",
      "execution_count": null,
      "metadata": {},
      "outputs": [],
      "source": []
    }
  ],
  "metadata": {
    "colab": {
      "provenance": []
    },
    "interpreter": {
      "hash": "2dd53f8ad749bca69f7250ce75eb4f0def59db5cf79075a9716322ffc58e8a2e"
    },
    "kernelspec": {
      "display_name": "Python 3.8.10 ('DL')",
      "language": "python",
      "name": "python3"
    },
    "language_info": {
      "codemirror_mode": {
        "name": "ipython",
        "version": 3
      },
      "file_extension": ".py",
      "mimetype": "text/x-python",
      "name": "python",
      "nbconvert_exporter": "python",
      "pygments_lexer": "ipython3",
      "version": "3.8.8"
    },
    "orig_nbformat": 4
  },
  "nbformat": 4,
  "nbformat_minor": 0
}
