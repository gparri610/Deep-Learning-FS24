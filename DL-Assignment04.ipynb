{
  "cells": [
    {
      "cell_type": "markdown",
      "metadata": {},
      "source": [
        "### Group Members:\n",
        "\n",
        "- Giovanni Sergio Armido Parri, 16-919-144"
      ]
    },
    {
      "attachments": {},
      "cell_type": "markdown",
      "metadata": {
        "id": "9DKZj8jK_Dry"
      },
      "source": [
        "# Assignment 4: Multi-Output Networks and Batch Processing\n",
        "\n",
        "The goal of this exercise is to get to know some regularization techniques when implementing deep learning methods.\n",
        "For this purpose, we select a dataset that contains data in different formats, some binary ($x_d \\in \\{-1,1\\}$) and some numerical ($x_d\\in \\mathbb N$); and some are categorical, which we ignore for now.\n",
        "As target values, this dataset contains three numerical outputs, so, $\\vec t \\in \\mathbb R^3$ for each sample.\n",
        "These target values should be approximated with a two-layer multi-output network that we will train with the $\\mathcal J^{L_2}$ loss.\n",
        "\n",
        "Remember to make use of `numpy` in the matrix calculation, e.g. `numpy.dot`, `numpy.exp`, `numpy.mean` "
      ]
    },
    {
      "attachments": {},
      "cell_type": "markdown",
      "metadata": {
        "id": "5lrQLreklXtS"
      },
      "source": [
        "## Dataset\n",
        "\n",
        "The dataset of our choice is the Student Performance estimation dataset that was collected in Portugal in two different schools and with two different subjects, i.e., math and Portuguese (the mother tongue).\n",
        "The dataset contains many different inputs such as a binary representation of the school, gender, family sizes, and alike, as well as numerical representations of age, travel time, and alcohol consumption.\n",
        "The dataset also includes some categorical data, which we skip in this assignment.\n",
        "See https://archive.ics.uci.edu/ml/datasets/Student+Performance for more information on the dataset.\n",
        "As a start, we will rely on the Portuguese performance (`\"por\"`), but you can also try to use the Math samples (`\"mat\"`)."
      ]
    },
    {
      "attachments": {},
      "cell_type": "markdown",
      "metadata": {
        "id": "HSol7VoalR-7"
      },
      "source": [
        "### Task 1: Dataset Loading\n",
        "\n",
        "\n",
        "Load the dataset from files and provide the input matrix $\\mathbf X \\in \\mathbb R^{(D+1)\\times N}$ and the output matrix $\\mathbf T \\in \\mathbb R^{O\\times N}$.\n",
        "\n",
        "Due to the difficulty of the task, most of the implementation is provided.\n",
        "The implementation is very literal and, therefore, hopefully readable, while maybe not the most efficient.\n",
        "\n",
        "We skip categorical inputs (indexes 8-11) for now.\n",
        "All other entries are converted either into binary $(-1,1)$ or into an integer range $(0,1,\\ldots)$.\n",
        "The three outputs range between 0 and 20 each. The bias value for $x_0=1$ is also already included.\n",
        "You just need to make sure that the data $(X,T)$ is returned in the desired format."
      ]
    },
    {
      "cell_type": "code",
      "execution_count": 1,
      "metadata": {
        "id": "wE3DlW-e_Dr1"
      },
      "outputs": [],
      "source": [
        "import math\n",
        "import numpy\n",
        "import os\n",
        "import random\n",
        "\n",
        "# Dataset origin: https://archive.ics.uci.edu/ml/datasets/Student+Performance\n",
        "\n",
        "def dataset(course=\"por\"):\n",
        "  # load dataset and provide input and target data\n",
        "  # possible data files are \"mat\" and \"por\"\n",
        "\n",
        "  # download data file from URL\n",
        "  dataset_zip_file = \"student.zip\"\n",
        "  if not os.path.exists(dataset_zip_file):\n",
        "    import urllib.request\n",
        "    urllib.request.urlretrieve(\"https://archive.ics.uci.edu/ml/machine-learning-databases/00320/student.zip\", dataset_zip_file)\n",
        "    print (\"Downloaded datafile\", dataset_zip_file)\n",
        "\n",
        "  import zipfile\n",
        "  import csv\n",
        "  import io\n",
        "\n",
        "  # collect inputs\n",
        "  inputs = []\n",
        "  targets = []\n",
        "  # some default values: yes=1, no=-1\n",
        "  yn = {\"yes\":1.,\"no\":-1.}\n",
        "  # read through dataset (without actually unzippiung to a file):\n",
        "  # ... open zip file\n",
        "  zip = zipfile.ZipFile(dataset_zip_file)\n",
        "  # ... open data file inside of zip file and convert bytes to text\n",
        "  datafile = io.TextIOWrapper(zip.open(os.path.join(F\"student-{course}.csv\"), 'r'))\n",
        "  # ... read through the lines via CSV reader, using the correct delimiter\n",
        "  reader = csv.reader(datafile, delimiter=\";\")\n",
        "  # ... skip header line\n",
        "  next(reader)\n",
        "  for splits in reader:\n",
        "    # read input values\n",
        "    inputs.append([\n",
        "      1.,                             #### BIAS ####\n",
        "      {\"GP\":1.,\"MS\":-1.}[splits[0]],  # school\n",
        "      {\"M\":1.,\"F\":-1.}[splits[1]],    # gender\n",
        "      float(splits[2]),               # age\n",
        "      {\"U\":1.,\"R\":-1.}[splits[3]],    # address\n",
        "      {\"LE3\":1.,\"GT3\":-1.}[splits[4]],# family size\n",
        "      {\"T\":1.,\"A\":-1.}[splits[5]],    # parents living together\n",
        "      float(splits[6]),               # mother education\n",
        "      float(splits[7]),               # father education\n",
        "      # skip categorical values\n",
        "      float(splits[12]),              # travel time\n",
        "      float(splits[13]),              # study time\n",
        "      float(splits[14]),              # failures\n",
        "      yn[splits[15]],                 # extra support\n",
        "      yn[splits[16]],                 # family support\n",
        "      yn[splits[17]],                 # paid support\n",
        "      yn[splits[18]],                 # activities\n",
        "      yn[splits[19]],                 # nursery school\n",
        "      yn[splits[20]],                 # higher education\n",
        "      yn[splits[21]],                 # internet\n",
        "      yn[splits[22]],                 # romantic\n",
        "      float(splits[23]),              # family relation\n",
        "      float(splits[24]),              # free time\n",
        "      float(splits[25]),              # going out\n",
        "      float(splits[26]),              # workday alcohol\n",
        "      float(splits[27]),              # weekend alcohol\n",
        "      float(splits[28]),              # health\n",
        "      float(splits[29]),              # absences\n",
        "    ])\n",
        "\n",
        "    # read targets values\n",
        "    targets.append([\n",
        "      float(splits[30]),              # grade for primary school\n",
        "      float(splits[31]),              # grade for secondary school\n",
        "      float(splits[32]),              # grade for tertiary school\n",
        "    ])\n",
        "\n",
        "  print(F\"Loaded dataset with {len(targets)} samples\")\n",
        "  return (numpy.array(inputs).T, numpy.array(targets).T)"
      ]
    },
    {
      "cell_type": "markdown",
      "metadata": {
        "id": "FWNwt2Rb_Dr3"
      },
      "source": [
        "### Test 1: Assert Valid Outputs\n",
        "\n",
        "This test will check the dimension of the loaded dataset, i.e. $\\mathbf X\\in \\mathbb R^{(D+1)\\times N}$ and $\\mathbf T \\in \\mathbb R^{O\\times N}$, and also assure that all target data is in the range $t\\in[0,20]$.\n",
        "\n",
        "Please make sure that your implementation can pass these tests before moving to the next task"
      ]
    },
    {
      "cell_type": "code",
      "execution_count": 2,
      "metadata": {
        "colab": {
          "base_uri": "https://localhost:8080/"
        },
        "id": "jaCpzc-l_Dr3",
        "outputId": "6fefb52a-492d-489a-aec3-156623dd939c"
      },
      "outputs": [
        {
          "name": "stdout",
          "output_type": "stream",
          "text": [
            "Loaded dataset with 649 samples\n"
          ]
        }
      ],
      "source": [
        "X_orig, T = dataset(\"por\")\n",
        "\n",
        "assert numpy.all(T >= 0) and numpy.all(T <= 20)\n",
        "\n",
        "assert X_orig.shape[0] == 27\n",
        "assert T.shape[0] == 3\n",
        "assert T.shape[1] == X_orig.shape[1]"
      ]
    },
    {
      "attachments": {},
      "cell_type": "markdown",
      "metadata": {
        "id": "dfk_P5eG_Dr3"
      },
      "source": [
        "### Task 2: Input Data Normalization (Min-Max)\n",
        "\n",
        "Since the data is in different input regimes, we want to normalize the data.\n",
        "For this purpose, we need to compute the minimum and the maximum of the data for each input dimension.\n",
        "Then, we implement a function to perform the normalization of the data using the previously computed minimum and maximum. Make sure that you handle the bias neuron $x_0$ correctly. The formula for min-max normalization is provided below:\n",
        "\n",
        "  $$\\forall d >= 1\\colon x_d^{\\text{norm}} = \\frac{x_d - \\min\\limits_{\\vec x'\\in \\mathbf X^T} x_d'}{\\max\\limits_{\\vec x'\\in \\mathbf X^T} x_d' - \\min\\limits_{\\vec x'\\in \\mathbf X^T} x_d'}$$"
      ]
    },
    {
      "cell_type": "code",
      "execution_count": 3,
      "metadata": {
        "id": "0bUpUAHR_Dr3"
      },
      "outputs": [],
      "source": [
        "# compute maximum and minimum over dataset\n",
        "min_val = [numpy.min(x) for x in X_orig[1:,:]]\n",
        "max_val = [numpy.max(x) for x in X_orig[1:,:]]\n",
        "# assure to handle x_0 correctly\n",
        "\n",
        "assert X_orig[0, 1] == numpy.ones_like(X_orig.shape[0])\n",
        "\n",
        "def normalize(x, min_val, max_val):\n",
        "  # normalize the given data with the given minimum and maximum values\n",
        "  for d in range(1,len(min_val)):\n",
        "    x[d,:] -= min_val[d]\n",
        "    x[d,:] /= numpy.subtract(max_val,min_val)[d]\n",
        "  return x\n",
        "\n",
        "# Normalize our dataset\n",
        "X = normalize(X_orig, min_val, max_val)\n",
        "assert X[0, 1] == numpy.ones_like(X_orig.shape[0])\n",
        "\n"
      ]
    },
    {
      "attachments": {},
      "cell_type": "markdown",
      "metadata": {
        "id": "6MZ_MPc-_Dr4"
      },
      "source": [
        "### Task 3: Batch Processing\n",
        "\n",
        "In order to run stochastic gradient descent, we need to split our dataset into batches of a certain batch size $B$. Implement a function that turns the dataset $(\\mathbf X, \\mathbf T)$ into batches of a certain batch size $B$.\n",
        "Implement this function as a generator function, i.e., use ``yield`` instead of ``return``.\n",
        "Circulate the dataset afresh when all data is consumed, and shuffle the data in each epoch.\n",
        "Make sure that you yield both the input batch and the target batch."
      ]
    },
    {
      "cell_type": "code",
      "execution_count": 4,
      "metadata": {
        "id": "GoDHo80J_Dr4"
      },
      "outputs": [],
      "source": [
        "def batch(X, T, batch_size=16):\n",
        "  N_batches = X.shape[1]//batch_size \n",
        "  inds = numpy.arange(X.shape[1])\n",
        "  while True:\n",
        "    for i in range(N_batches):\n",
        "      # shuffle dataset in each epoch\n",
        "      random.shuffle(inds)\n",
        "      batch_indices = inds[i*batch_size:(i+1)*batch_size]\n",
        "      X_batch = X[:,batch_indices]\n",
        "      T_batch = T[:,batch_indices]\n",
        "      yield X_batch, T_batch, (i % N_batches == 0)\n",
        "    \n",
        "    "
      ]
    },
    {
      "attachments": {},
      "cell_type": "markdown",
      "metadata": {
        "id": "NgBsBOsa_Dr4"
      },
      "source": [
        "### Test 2: Test your Batches\n",
        "\n",
        "This test is to assure that your batch generation function works as expected. \n",
        "We define some test data for this purpose.\n",
        "The code below checks whether your batch function returns batches with correct content, i.e., $(\\vec x, \\vec t)$-alignment. \n",
        "It also checks that the batches are in the correct dimensions, i.e., that $\\mathbf X \\in \\mathbb R^{(D+1)\\times B}$ and $\\mathbf T \\in \\mathbb R^{O\\times B}$.\n",
        "\n",
        "Make sure you can pass this test before moving forward."
      ]
    },
    {
      "cell_type": "code",
      "execution_count": 5,
      "metadata": {
        "id": "fFndxbf1_CmR"
      },
      "outputs": [],
      "source": [
        "XX = numpy.array([[i] * 5 for i in range(50)]).T\n",
        "TT = numpy.array([[i] for i in range(10,60)]).T\n",
        "\n",
        "for counter, (x,t,e) in enumerate(batch(XX, TT, 16)): ## what is the 3rd output ??\n",
        "  assert x.shape[0] == 5\n",
        "  assert x.shape[1] == 16\n",
        "  assert t.shape[0] == 1\n",
        "  assert t.shape[1] == 16\n",
        "  assert numpy.all(x == t-10)\n",
        "  assert e == (counter % 3 == 0)\n",
        "  if counter == 20: break\n",
        "  "
      ]
    },
    {
      "attachments": {},
      "cell_type": "markdown",
      "metadata": {
        "id": "0B8o_mE1l6mp"
      },
      "source": [
        "## Gradient Descent\n",
        "\n",
        "To train a two-layer multi-output regression network, we need to implement some functions.\n",
        "The network output is computed in three steps:\n",
        "\n",
        "  * Compute network activation for a batch of inputs $\\mathbf X$: $\\mathbf A = \\mathbf W^{(1)}\\mathbf X$\n",
        "  * Call the activation function element-wise: $\\mathbf H = g(\\mathbf A)$. Here, we rely on the logistic activation function $\\sigma$. Assure that the hidden neuron bias $\\mathbf H_{0,:}$ is set appropriately.\n",
        "  * Compute the output $\\mathbf Y$ of the batch: $\\mathbf Y = \\mathbf W^{(2)}\\mathbf H$."
      ]
    },
    {
      "attachments": {},
      "cell_type": "markdown",
      "metadata": {
        "id": "0pGCwC0L_Dr4"
      },
      "source": [
        "### Task 4: Multi-Output Network\n",
        "\n",
        "Implement a multi-target network that computes the output matrix $\\mathbf Y$ for a given input dataset/batch $\\mathbf X$ and given parameters $\\Theta=(\\mathbf W^{(1)}, \\mathbf W^{(2)})$ using `numpy` operations. \n",
        "The function should return both the output $\\mathbf Y$ and the output of the hidden units $\\mathbf H$ since we will need these in gradient descent. Select the logistic function $\\sigma$ as the activation function."
      ]
    },
    {
      "cell_type": "code",
      "execution_count": 6,
      "metadata": {
        "id": "j1gErN4z_Dr4"
      },
      "outputs": [],
      "source": [
        "def network(X, Theta):\n",
        "  W1, W2 = Theta\n",
        "  if len(X.shape) == 1: \n",
        "    X = X.reshape(-1, 1) \n",
        "  # compute activation\n",
        "  A = numpy.dot(W1,X)\n",
        "  # compute hidden unit output\n",
        "  H = 1./(numpy.add(numpy.ones_like(A),numpy.exp(-A)))\n",
        "  H = numpy.vstack((numpy.ones(A.shape[1]), H))\n",
        "  # compute network output\n",
        "  Y = numpy.dot(W2, H)\n",
        "  return Y, H"
      ]
    },
    {
      "attachments": {},
      "cell_type": "markdown",
      "metadata": {
        "id": "Zt0CMab4_Dr5"
      },
      "source": [
        "### Task 5: Loss Implementation\n",
        "\n",
        "Implement a loss function that returns the squared loss $\\mathcal J^{L_2} = \\frac1B \\|\\mathbf Y - \\mathbf T\\|_F^2$ for given network outputs $\\mathbf Y$ and target values $\\mathbf T$.\n",
        "Use `numpy` or `scipy` functionality for this task."
      ]
    },
    {
      "cell_type": "code",
      "execution_count": 7,
      "metadata": {
        "id": "RSwKiqIc_Dr5"
      },
      "outputs": [],
      "source": [
        "def loss(Y, T):\n",
        "  return 1./T.shape[1]*numpy.linalg.norm(numpy.subtract(Y,T))**2"
      ]
    },
    {
      "attachments": {},
      "cell_type": "markdown",
      "metadata": {
        "id": "fD2srCKN_Dr5"
      },
      "source": [
        "### Task 6: Gradient Implementation\n",
        "\n",
        "Implement a function that computes and returns the gradient for a given batch $(\\mathbf X, \\mathbf T)$, the given network outputs $\\mathbf Y$ and $\\mathbf H$ as well as current parameters $\\Theta=(\\mathbf W^{(1)}, \\mathbf W^{(2)})$.\n",
        "Make sure to compute the gradient with respect to both weight matrices. Remember that we have used $\\sigma$ as the activation function.\n",
        "Implement the function using the fast version provided in the lecture and make use of `numpy` operations."
      ]
    },
    {
      "cell_type": "code",
      "execution_count": 8,
      "metadata": {
        "id": "Qe8QYVnP_Dr5"
      },
      "outputs": [],
      "source": [
        "def gradient(X, T, Y, H, Theta):\n",
        "  W1, W2 = Theta\n",
        "  B = T.shape[1]\n",
        "  ONE = numpy.ones_like(H)\n",
        "  # first layer gradient\n",
        "  g1 = 2./B*numpy.dot(numpy.multiply(numpy.multiply(numpy.dot(W2.T, numpy.subtract(Y,T)), H), numpy.subtract(ONE, H)), X.T)\n",
        "  g1 = g1[1:, :]\n",
        "  # second layer gradient\n",
        "  g2 = 2./B*numpy.dot(numpy.subtract(Y,T), H.T)\n",
        "  return g1, g2"
      ]
    },
    {
      "attachments": {},
      "cell_type": "markdown",
      "metadata": {
        "id": "CpeCOHbE_Dr5"
      },
      "source": [
        "### Task 7: Iterative Gradient Descent\n",
        "\n",
        "\n",
        "Implement gradient descent for a given number of 10'000 epochs (**not batches!**) using given initial parameters $\\Theta$ and a given batch size $B$, as well as a learning rate of $\\eta=0.001$.\n",
        "\n",
        "Make use of the normalized dataset from Task 2, split into batches with the function from Task 3, the network from Task 4, the loss from Task 5, and the gradient from Task 6.\n",
        "\n",
        "Make sure that the network output $\\mathbf Y$ and the hidden unit output $\\mathbf H$ are computed only once for each batch. After applying gradient descent, add an option to use momentum learning with the given parameter `mu`.\n",
        "At the end of each epoch, compute and store the loss values for each batch in a list, and this list will be returned at the end.\n",
        "\n",
        "How many iterations do we need when $B < N$? How can you know whether your current batch is the last one of the current epoch?"
      ]
    },
    {
      "cell_type": "code",
      "execution_count": 9,
      "metadata": {
        "id": "QnuFqkg-82l2"
      },
      "outputs": [],
      "source": [
        "def gradient_descent(X, T, Theta, B, eta=0.001, mu=None):\n",
        "  \n",
        "  loss_values = []\n",
        "  Theta = numpy.array(Theta, dtype=object)\n",
        "  max_epochs = 10000\n",
        "  OPT = [Theta, Theta]\n",
        "  stop = False\n",
        "  # iterate over batches\n",
        "  for x,t,e in batch(X, T, batch_size=B):\n",
        "    for epoch in range(1,max_epochs+1):\n",
        "      # compute network output\n",
        "      Y, H = network(x, OPT[epoch])\n",
        "      # compute and append loss\n",
        "      err = loss(Y,t)\n",
        "      if e:\n",
        "        loss_values.append(err)\n",
        "      # compute gradient\n",
        "      grad = numpy.array(gradient(x, t, Y, H, OPT[epoch]), dtype=object)\n",
        "      # and apply gradient descent\n",
        "      if mu is None:\n",
        "        OPT_new = OPT[epoch]-eta*grad\n",
        "        OPT.append(OPT_new)\n",
        "      if mu is not None:\n",
        "        OPT_new = OPT[epoch] - eta*grad + mu*(OPT[epoch]-OPT[epoch-1])\n",
        "        OPT.append(OPT_new)\n",
        "      if len(loss_values)>= max_epochs:\n",
        "        stop = True\n",
        "    if stop:\n",
        "      break\n",
        "  # return the obtained loss values at the end\n",
        "  return loss_values, OPT[-1]"
      ]
    },
    {
      "attachments": {},
      "cell_type": "markdown",
      "metadata": {
        "id": "NIvoljpW_Dr5"
      },
      "source": [
        "### Task 8: Run Gradient Descent\n",
        "\n",
        "Select an appropriate number of hidden neurons $K$.\n",
        "Instantiate the weight matrices $\\Theta=(\\mathbf W^{(1)}, \\mathbf W^{(2)})$ using the Xavier method as introduced in the lecture.\n",
        "\n",
        "Run the gradient descent three times, first as normal gradient descent, second as stochastic gradient descent with batch size $B=16$, and third with the same setup as the second but with momentum learning involved, select $\\mu =0.9$.\n",
        "\n",
        "How can you achieve this without requiring separate implementations of the ``gradient_descent`` function from Task 7?"
      ]
    },
    {
      "cell_type": "code",
      "execution_count": 10,
      "metadata": {
        "id": "r4BnX1m8_Dr6"
      },
      "outputs": [
        {
          "name": "stdout",
          "output_type": "stream",
          "text": [
            "[array([[ 8.67896929e-02,  2.75083607e-01, -4.45727856e-01,\n",
            "         -6.17993161e-02,  2.72421604e-02,  5.74542604e-04,\n",
            "         -3.80418717e-02,  1.69652635e-02,  2.40540851e-01,\n",
            "         -3.26740244e-01,  2.92656221e-01, -5.67948595e-01,\n",
            "         -3.35361245e-01, -3.89521929e-01, -1.86194037e-01,\n",
            "          6.71569032e-02,  4.82924300e-01,  2.80310088e-01,\n",
            "         -7.91391863e-01, -3.15809539e-02, -4.19838947e-01,\n",
            "         -3.44178387e-01, -4.32261590e-01, -2.75298212e-01,\n",
            "          5.42934274e-01, -1.40740854e-01,  6.12747826e-02],\n",
            "        [ 1.80499331e-01, -8.82173146e-02, -3.70863343e-01,\n",
            "          4.49861969e-01, -1.05474855e-01, -2.88121319e-01,\n",
            "         -1.36167606e-01, -1.38173157e-01,  2.21093770e-01,\n",
            "         -7.80908903e-02, -1.51034859e-01,  2.08114416e-01,\n",
            "         -2.62291456e-02, -2.26185032e-01, -1.13199570e-02,\n",
            "         -5.46975416e-01,  6.19931312e-01, -4.89468418e-01,\n",
            "         -3.06064438e-01,  5.21627739e-02, -6.25743601e-02,\n",
            "         -4.43571496e-02, -4.55438859e-01, -9.48326170e-02,\n",
            "          6.71561543e-01, -6.32741100e-02, -1.50194609e-01],\n",
            "        [-6.77321221e-02, -2.01668637e-02,  1.34154350e-01,\n",
            "         -2.87803686e-01, -6.17173559e-04, -6.67520953e-02,\n",
            "         -2.14116514e-02,  2.15595519e-02,  4.83810713e-02,\n",
            "          6.95398997e-02, -7.87814807e-02, -1.31573770e-01,\n",
            "          2.76375090e-03,  1.76942510e-02,  1.13026694e-03,\n",
            "         -5.53181510e-02, -1.35872732e-02, -1.19119814e-01,\n",
            "          1.83679704e-01, -9.26103544e-02,  1.35588712e-01,\n",
            "         -6.02547354e-02,  9.28436427e-02, -6.51933362e-02,\n",
            "         -2.30360958e-01, -8.85712533e-03, -9.05681667e-03],\n",
            "        [ 8.13697162e-02,  4.54520736e-01, -6.10670078e-01,\n",
            "         -8.36042780e-02,  1.20703639e-01,  2.16013449e-01,\n",
            "          6.38536709e-04, -2.12663732e-03,  4.28496915e-01,\n",
            "         -4.54077515e-01,  4.91781811e-01, -1.07537396e+00,\n",
            "         -6.71026695e-01, -3.71223716e-01, -3.02063541e-01,\n",
            "         -7.18040345e-02,  3.28329364e-01,  7.53234665e-01,\n",
            "         -1.02628059e+00,  1.65179043e-02, -5.24841256e-01,\n",
            "         -5.11132494e-01, -5.09293404e-01, -4.05680691e-01,\n",
            "          6.75082801e-01, -1.97772598e-01,  1.73276009e-01],\n",
            "        [ 1.82351218e-01,  3.87385274e-01, -3.35385079e-01,\n",
            "          3.68326931e-01, -2.98302290e-01, -2.44290955e-01,\n",
            "          1.74683237e-01, -9.58578258e-02,  5.56486526e-02,\n",
            "         -2.37010032e-01,  1.77774684e-01,  4.23338978e-01,\n",
            "         -1.46617076e-02, -4.24077093e-01, -1.33403005e-02,\n",
            "          1.38783983e-02,  4.99855238e-01,  9.41740477e-02,\n",
            "         -7.76443245e-01,  3.65805049e-01, -5.08702872e-01,\n",
            "         -4.38914531e-02, -7.02487439e-01,  9.43012695e-02,\n",
            "          9.35809919e-01, -1.98665066e-02, -6.40573759e-01],\n",
            "        [ 1.76072008e-01,  2.56931294e-01, -3.54250596e-01,\n",
            "          4.69798517e-01, -1.24611090e-01, -2.86727835e-01,\n",
            "          1.50707436e-01, -6.86864270e-02, -3.46237948e-03,\n",
            "         -3.00635737e-01,  1.03639488e-01,  4.23104446e-01,\n",
            "         -7.75027521e-03, -4.36665188e-01, -7.64881370e-03,\n",
            "          1.74911584e-01,  5.81229791e-01,  3.50604449e-02,\n",
            "         -7.58862270e-01,  3.26180520e-01, -4.98055825e-01,\n",
            "         -2.97823361e-03, -4.99042433e-01,  7.20435348e-02,\n",
            "          8.77269613e-01, -2.31122571e-02, -4.94404351e-01],\n",
            "        [ 4.21913812e-02, -7.32387941e-01, -1.65819329e-01,\n",
            "          9.04823011e-02,  2.01349599e-01, -4.86370358e-02,\n",
            "         -1.03797028e-01, -3.09364091e-01, -1.66444541e-01,\n",
            "         -3.91463103e-01, -4.12181796e-01,  2.57124023e-02,\n",
            "         -2.79266761e-01, -7.48655037e-01, -1.20914194e-01,\n",
            "          5.19070855e-01,  4.32720088e-01, -2.97312033e-01,\n",
            "         -1.58880122e+00,  5.29639899e-02, -8.36557018e-01,\n",
            "         -4.47266292e-01, -3.83952513e-01, -6.93370836e-02,\n",
            "          6.78974928e-01, -1.10836006e-01,  3.64954686e-01],\n",
            "        [ 1.81355919e-01, -5.55961697e-01, -2.30978880e-01,\n",
            "          5.04187861e-01,  2.33274846e-01, -2.27894787e-02,\n",
            "         -1.18369034e-01, -3.03825672e-01, -6.98813637e-02,\n",
            "         -3.93805008e-01, -4.20251392e-01,  6.59526418e-01,\n",
            "         -9.46110793e-03, -4.74800567e-01, -4.78778356e-03,\n",
            "          2.42749556e-01,  5.23399919e-01, -4.14143417e-01,\n",
            "         -1.35340964e+00,  2.26752147e-01, -7.25546617e-01,\n",
            "         -1.80805740e-01, -5.05118348e-01,  1.23052505e-01,\n",
            "          9.17180662e-01, -1.60846791e-02,  2.29081147e-01],\n",
            "        [ 1.09413515e-01,  2.42956225e-01, -5.58562771e-01,\n",
            "          4.91936831e-02,  2.42810716e-02, -2.12512469e-01,\n",
            "         -8.52974226e-02, -5.11624864e-02,  2.77176550e-01,\n",
            "         -4.02037745e-01,  2.50394624e-01, -6.69628915e-01,\n",
            "         -5.30804996e-01, -5.93397801e-01, -2.36870472e-01,\n",
            "         -1.67417346e-01,  7.48842578e-01,  5.14767562e-02,\n",
            "         -7.72170652e-01,  2.54613590e-03, -3.98150411e-01,\n",
            "         -4.61158029e-01, -4.90714280e-01, -4.03727598e-01,\n",
            "          7.96898826e-01, -1.90585903e-01, -1.27537826e-01],\n",
            "        [ 8.62676561e-02,  4.88390135e-02, -1.13460846e-01,\n",
            "          3.26650107e-01, -3.03544211e-01, -2.28812027e-01,\n",
            "          1.52723766e-01, -9.62164491e-02, -4.36528626e-02,\n",
            "         -1.39882632e-01, -2.40825133e-02,  3.54806028e-01,\n",
            "         -4.28098058e-02, -5.39038980e-01, -1.60292576e-02,\n",
            "          4.01834806e-01,  3.79987952e-01,  4.15747031e-02,\n",
            "         -7.90420183e-01,  2.54036353e-01, -5.39322356e-01,\n",
            "         -7.44038473e-02, -5.67797649e-01,  1.02161671e-01,\n",
            "          5.50233674e-01, -7.56541414e-03, -9.51494870e-01],\n",
            "        [ 1.78955505e-01,  2.43868206e-02, -3.51099929e-01,\n",
            "          5.63927995e-01, -6.88319398e-02, -2.25132251e-01,\n",
            "         -1.24266107e-01, -9.69770384e-02,  2.07779610e-01,\n",
            "         -6.72633034e-02, -6.05861443e-02,  2.08906231e-01,\n",
            "         -5.99717982e-03, -1.17411237e-01, -8.48882088e-04,\n",
            "         -4.81213998e-01,  4.83297049e-01, -3.82977293e-01,\n",
            "         -1.75914601e-01,  8.55106326e-02, -1.03044908e-03,\n",
            "         -9.53511205e-03, -3.73279171e-01, -5.98793816e-02,\n",
            "          5.81002715e-01, -4.40260958e-02, -7.75877458e-02],\n",
            "        [ 1.87219065e-01,  8.91665224e-04, -3.87234212e-01,\n",
            "          9.26490605e-02,  9.96742675e-02, -2.16349510e-01,\n",
            "         -5.20540060e-02, -2.92444578e-01,  8.36630624e-02,\n",
            "         -3.75576673e-01, -6.47354414e-02,  3.76854206e-01,\n",
            "         -7.89759999e-02, -3.04385998e-01, -3.74460399e-02,\n",
            "         -4.87806235e-01,  5.81227270e-01, -3.12294441e-01,\n",
            "         -9.18580104e-01,  2.93352769e-01, -4.99882607e-01,\n",
            "         -1.99101656e-01, -6.37610847e-01, -7.44959958e-03,\n",
            "          1.16668778e+00, -6.11801068e-02,  4.24471950e-01],\n",
            "        [-1.20901751e-01,  2.59149033e-01, -1.63687469e-01,\n",
            "         -4.48254224e-01,  9.13123242e-02,  2.76947794e-02,\n",
            "          7.85712227e-02,  1.96407965e-01,  1.84570585e-01,\n",
            "         -1.30818077e-01,  4.84697426e-01, -1.14537524e+00,\n",
            "         -5.73458988e-01, -1.21541953e-01, -2.35836361e-01,\n",
            "          1.57653473e-02, -2.21449596e-02,  5.66666413e-01,\n",
            "         -1.39185795e-03, -1.48262581e-01, -1.98573311e-02,\n",
            "         -2.05077122e-01,  8.25879976e-02, -4.49397992e-01,\n",
            "         -3.02419515e-01, -1.49731591e-01, -2.92856203e-01],\n",
            "        [-8.26589369e-02, -3.84165457e-02,  1.69297855e-01,\n",
            "         -2.47526558e-01,  4.27917450e-02, -7.67884116e-02,\n",
            "         -1.84073299e-02,  4.25310896e-02,  6.17668412e-02,\n",
            "          9.07665645e-02, -1.08042545e-01, -1.57990753e-01,\n",
            "          8.42972594e-03,  2.14430707e-02,  4.77286727e-03,\n",
            "         -2.16217306e-02, -2.18090159e-02, -1.23026757e-01,\n",
            "          2.41887054e-01, -1.24209354e-01,  1.74631157e-01,\n",
            "         -7.64003536e-02,  1.52856341e-01, -7.43118719e-02,\n",
            "         -3.28757344e-01, -6.17059880e-03, -3.39257319e-03],\n",
            "        [-7.80168154e-03,  9.42695793e-02, -7.22243457e-02,\n",
            "          8.16421503e-02, -1.52030242e-02, -2.50825450e-01,\n",
            "         -5.92521993e-02,  1.98832426e-02,  1.57724568e-01,\n",
            "          6.48042344e-02, -6.65198174e-02, -2.59510803e-01,\n",
            "         -8.07444065e-02, -9.16020322e-02, -3.93758144e-02,\n",
            "         -1.80825459e-01,  2.07803090e-01, -1.99670222e-01,\n",
            "          2.33178867e-01, -1.21391755e-01,  2.02287370e-01,\n",
            "         -1.53465935e-01, -1.00616734e-02, -1.90059547e-01,\n",
            "         -7.47080561e-02, -6.18082001e-02,  8.25243349e-02],\n",
            "        [ 1.11603883e-01,  5.49517871e-01, -6.01757263e-01,\n",
            "          5.52060119e-02,  2.85547566e-02, -2.01505031e-01,\n",
            "         -6.47936437e-02,  1.28785129e-01,  4.99362571e-01,\n",
            "         -2.80084945e-01,  3.93643118e-01, -1.02887891e+00,\n",
            "         -3.85278689e-01, -5.32378768e-01, -2.15720613e-01,\n",
            "         -2.27437871e-01,  7.12681111e-01,  3.47543893e-01,\n",
            "         -2.13040587e-01, -1.72314347e-01, -7.23590327e-02,\n",
            "         -3.02151919e-01, -4.17349070e-01, -5.89260911e-01,\n",
            "          2.97868622e-01, -1.90188980e-01, -3.44934377e-01],\n",
            "        [ 1.28170955e-01, -5.75061080e-01, -1.68532048e-01,\n",
            "          2.42986168e-01,  2.14290819e-01, -1.53417512e-01,\n",
            "         -1.46637726e-01, -2.96007455e-01, -5.73001719e-02,\n",
            "         -3.60179336e-01, -4.58166704e-01,  5.12101284e-01,\n",
            "         -2.61871471e-02, -5.50302452e-01, -1.53601918e-02,\n",
            "          2.29751068e-01,  5.31046746e-01, -5.74074537e-01,\n",
            "         -1.24436783e+00,  1.43489101e-01, -6.47075241e-01,\n",
            "         -2.68058266e-01, -4.67312601e-01,  3.83923483e-02,\n",
            "          7.87021879e-01, -4.19092630e-02,  1.98913639e-01],\n",
            "        [-1.67947031e-02, -1.80994546e-02,  3.67704971e-02,\n",
            "         -1.17800817e-01, -1.51533961e-02,  1.02131291e-02,\n",
            "         -3.98876342e-03, -8.65462156e-03, -1.72706665e-02,\n",
            "          6.07971391e-03, -8.91652866e-03, -7.31406785e-03,\n",
            "          4.80659270e-03,  1.51401645e-03,  1.12729109e-03,\n",
            "          3.40546660e-05, -2.74662319e-02, -1.39741463e-02,\n",
            "          3.56726947e-03, -4.25733164e-04,  8.58455245e-04,\n",
            "         -8.31410377e-04,  1.32944141e-02,  1.93932621e-03,\n",
            "         -2.14357037e-02,  1.08339145e-04,  3.50474853e-02],\n",
            "        [ 1.53965230e-01, -3.74851846e-01, -3.73902842e-01,\n",
            "          4.46758351e-01, -1.21310582e-02, -3.71528539e-01,\n",
            "         -1.66315241e-01, -1.34374997e-01,  2.19936721e-01,\n",
            "         -6.24801613e-02, -3.00441475e-01,  8.39152389e-02,\n",
            "         -7.45085606e-02, -3.13299239e-01, -3.11150921e-02,\n",
            "         -5.96415834e-01,  7.12740885e-01, -6.04390253e-01,\n",
            "         -3.15464124e-01, -3.86945495e-02, -6.57823813e-02,\n",
            "         -8.51406422e-02, -4.08634846e-01, -1.29989022e-01,\n",
            "          6.05512539e-01, -8.70928841e-02, -4.67689030e-01],\n",
            "        [-3.08183395e-02,  5.00971726e-01, -3.10265039e-01,\n",
            "         -1.10780979e-01, -3.88151748e-02, -8.39019642e-02,\n",
            "         -9.23119681e-02,  1.31850187e-01,  4.11845706e-01,\n",
            "         -3.83265642e-02,  3.75833547e-01, -1.14064771e+00,\n",
            "         -5.05855662e-01, -1.06147148e-01, -2.24541904e-01,\n",
            "         -3.32789838e-01,  2.96756576e-01,  2.59049588e-01,\n",
            "          1.19470015e-01, -2.21388517e-01,  1.81198011e-01,\n",
            "         -3.50629680e-01, -1.44611425e-01, -4.92869204e-01,\n",
            "         -1.07128203e-01, -1.70902884e-01,  5.89924200e-02]])\n",
            " array([[-0.54887438,  0.3908445 , -0.86330404, -0.1399379 ,  1.2112354 ,\n",
            "          0.24505868,  0.1827244 ,  0.06913913,  0.12628807,  0.08488522,\n",
            "          0.57413354, -0.72794009, -0.4176975 , -0.09813064, -0.23766636,\n",
            "         -0.75523827,  0.19231035, -0.17071711,  0.02819147, -1.1653118 ,\n",
            "         -0.08124788],\n",
            "        [ 1.01727266, -0.25778296, -0.14205538,  0.48464296,  0.27743961,\n",
            "         -0.98966038, -0.9611061 , -1.21154027, -1.0661544 , -0.41773397,\n",
            "         -0.7788081 ,  0.19417404, -1.1788067 ,  1.5353849 ,  0.65614038,\n",
            "          1.00739121,  0.46283013, -1.11555207,  0.06667058, -0.29068585,\n",
            "          1.36473377],\n",
            "        [ 0.76300884, -0.02544448, -0.23223242,  0.48698995,  0.52694306,\n",
            "         -1.09060508, -1.06249624, -1.00948878, -1.19963762, -0.06889066,\n",
            "         -0.92359444,  0.02848123, -1.15654751,  1.2940743 ,  0.6369862 ,\n",
            "          0.825449  ,  0.73440423, -0.94916259,  0.03994095, -0.07396802,\n",
            "          1.26047639]])                                                  ]\n"
          ]
        }
      ],
      "source": [
        "K = 20\n",
        "D = 26\n",
        "O = 3\n",
        "W1 = numpy.random.uniform(-1./numpy.sqrt(D), 1./numpy.sqrt(D), (K, D+1))\n",
        "W2 = numpy.random.uniform(-1./numpy.sqrt(K), 1./numpy.sqrt(K), (O, K+1))\n",
        "\n",
        "Theta = [W1, W2]\n",
        "\n",
        "# import copy\n",
        "\n",
        "# run gradient descent with full dataset\n",
        "#Theta1 = copy.deepcopy(Theta)\n",
        "GD, Theta1 = gradient_descent(X, T, Theta, B=X.shape[1])\n",
        "# run stochastic gradient descent with batches of size 16\n",
        "# Theta2 = copy.deepcopy(Theta)\n",
        "SGD, Theta2 = gradient_descent(X, T, Theta, B=16)\n",
        "# # run stochastic gradient descent with batches of size 16 and momentum mu=0.9\n",
        "# Theta3 = copy.deepcopy(Theta)\n",
        "SGD_Mo, Theta3 = gradient_descent(X, T, Theta, B=16, mu=0.9)\n",
        "\n",
        "print(numpy.subtract(Theta1, Theta2))\n",
        "\n"
      ]
    },
    {
      "cell_type": "markdown",
      "metadata": {
        "id": "Mi5Wt88CnsNB"
      },
      "source": [
        "## Evaluation\n",
        "\n",
        "Finally, we want to evaluate how the learning process went and what the network has actually learned.\n",
        "For the former, we will plot the loss values obtained during training.\n",
        "For the latter, we define one specific sample of our own, and we evaluate the impact of several factors on the performance."
      ]
    },
    {
      "cell_type": "markdown",
      "metadata": {
        "id": "t1CGUw7k_Dr6"
      },
      "source": [
        "### Task 9: Plotting Loss Progression\n",
        "\n",
        "To show the learning process of the networks, plot the loss values of the three gradient descent steps from Task 8 together into one plot.\n",
        "Do we need to take care of something when plotting both together?\n",
        "\n",
        "Use logarithmic axes wherever you see fit.\n",
        "An exemplary loss progression plot can be found in the slides.\n",
        "\n"
      ]
    },
    {
      "cell_type": "code",
      "execution_count": 11,
      "metadata": {
        "id": "wMFMvuRg_Dr6"
      },
      "outputs": [
        {
          "data": {
            "image/png": "[encoded data removed]",
            "text/plain": [
              "<Figure size 432x288 with 1 Axes>"
            ]
          },
          "metadata": {
            "needs_background": "light"
          },
          "output_type": "display_data"
        }
      ],
      "source": [
        "from matplotlib import pyplot\n",
        "epochs = numpy.linspace(0, 10000, 10000)\n",
        "pyplot.plot(epochs, SGD, \"b-\", label=\"Stochastic Gradient Descent\")\n",
        "pyplot.plot(epochs, SGD_Mo, \"r-\", label=\"Stochastic Gradient Descent with Momentum\")\n",
        "pyplot.plot(epochs, GD, \"g-\", label=\"Gradient Descent\")\n",
        "pyplot.xscale('log')\n",
        "pyplot.yscale('log')\n",
        "pyplot.xlabel('Epochs')\n",
        "pyplot.ylabel('Loss')\n",
        "pyplot.legend()\n",
        "pyplot.show()"
      ]
    },
    {
      "attachments": {},
      "cell_type": "markdown",
      "metadata": {
        "id": "sDJp99mK_Dr6"
      },
      "source": [
        "### Task 10: Best and Worst Performers\n",
        "\n",
        "We want to see what the network has learned.\n",
        "Therefore, we evaluate the best student in our dataset as well as the worst student based on their average grade. \n",
        "The best student would be the one with the highest average of the 3 outputs from the model and the worst student would be the one with the lowest average of the 3 outputs from the model.\n",
        "We will look into the features that represent the best student and the worst. \n",
        "\n",
        "Remember that input data need to be normalized before feeding it to the network. "
      ]
    },
    {
      "cell_type": "code",
      "execution_count": 12,
      "metadata": {},
      "outputs": [
        {
          "name": "stdout",
          "output_type": "stream",
          "text": [
            "Best student index is 338 with an avarage of 18.666666666666668\n",
            "The network predicts the index 218 with an avarage of [16.68954187]\n",
            "#######################\n",
            "Worst student index is 567 with an avarage of 1.3333333333333333\n",
            "The network predicts the index 563 with an avarage of [2.33504403]\n"
          ]
        }
      ],
      "source": [
        "# Variables to store your info on best and worst student\n",
        "best_student_idx = numpy.argmax(numpy.sum(T ,axis=0)) # Index of the top student from the dataset\n",
        "worst_student_idx = numpy.argmin(numpy.sum(T ,axis=0)) # Index of the bottom student from the dataset\n",
        "current_best_score = numpy.sum(T[:,best_student_idx], axis=0)/3. # Best average score of the top student\n",
        "current_worst_score = numpy.sum(T[:,worst_student_idx] ,axis=0)/3. # Worst average score of the bottom student\n",
        "\n",
        "\n",
        "best_pred_indx = None \n",
        "worst_pred_indx = None \n",
        "best_avarage = 0\n",
        "worst_avarage = 20.\n",
        "\n",
        "# Iterate over the whole dataset\n",
        "for i, x in enumerate(X.T): \n",
        "    # compute network predictions\n",
        "    prediction, _ = network(x,Theta2)\n",
        "\n",
        "    # Take the average of the predictions\n",
        "    avg = numpy.sum(prediction, axis=0)/3.\n",
        "    # Check for top student. (Save their index and their average scores)\n",
        "    if best_avarage < avg:\n",
        "        best_avarage = avg\n",
        "        best_pred_indx = i\n",
        "    # Check for bottom student. (Save their index and their average scores)\n",
        "    if worst_avarage > avg:\n",
        "        worst_avarage = avg\n",
        "        worst_pred_indx = i\n",
        "print(\"Best student index is\", best_student_idx, \"with an avarage of\", current_best_score)\n",
        "print(\"The network predicts the index\", best_pred_indx, \"with an avarage of\", best_avarage)\n",
        "print(\"#######################\")\n",
        "print(\"Worst student index is\", worst_student_idx, \"with an avarage of\", current_worst_score)\n",
        "print(\"The network predicts the index\", worst_pred_indx, \"with an avarage of\", worst_avarage)"
      ]
    },
    {
      "cell_type": "markdown",
      "metadata": {},
      "source": [
        "##### Use the code below to see the features of top and bottom student in a table."
      ]
    },
    {
      "cell_type": "code",
      "execution_count": 13,
      "metadata": {},
      "outputs": [
        {
          "data": {
            "text/html": [
              "<div>\n",
              "<style scoped>\n",
              "    .dataframe tbody tr th:only-of-type {\n",
              "        vertical-align: middle;\n",
              "    }\n",
              "\n",
              "    .dataframe tbody tr th {\n",
              "        vertical-align: top;\n",
              "    }\n",
              "\n",
              "    .dataframe thead th {\n",
              "        text-align: right;\n",
              "    }\n",
              "</style>\n",
              "<table border=\"1\" class=\"dataframe\">\n",
              "  <thead>\n",
              "    <tr style=\"text-align: right;\">\n",
              "      <th></th>\n",
              "      <th>BIAS</th>\n",
              "      <th>School</th>\n",
              "      <th>Gender</th>\n",
              "      <th>Age</th>\n",
              "      <th>Address</th>\n",
              "      <th>Small family</th>\n",
              "      <th>Parents Living Together</th>\n",
              "      <th>Mother with higher education</th>\n",
              "      <th>Father with secondary education</th>\n",
              "      <th>Travel time</th>\n",
              "      <th>Study time</th>\n",
              "      <th>Failures</th>\n",
              "      <th>School Support</th>\n",
              "      <th>Family Support</th>\n",
              "      <th>Additional Classes</th>\n",
              "      <th>Out-of-school activities</th>\n",
              "      <th>Nursery school</th>\n",
              "      <th>Higher education</th>\n",
              "      <th>Internet access</th>\n",
              "      <th>Romantic Relationship</th>\n",
              "      <th>Good relation with family</th>\n",
              "      <th>Free time</th>\n",
              "      <th>Goes out with peers</th>\n",
              "      <th>Workday alcohol consumption</th>\n",
              "      <th>Weekend alcohol consumption</th>\n",
              "      <th>Current health status</th>\n",
              "      <th>Absences</th>\n",
              "      <th>Average Score</th>\n",
              "    </tr>\n",
              "  </thead>\n",
              "  <tbody>\n",
              "    <tr>\n",
              "      <th>0</th>\n",
              "      <td>1.0</td>\n",
              "      <td>1.0</td>\n",
              "      <td>-2.285714</td>\n",
              "      <td>9.0</td>\n",
              "      <td>0.0</td>\n",
              "      <td>1.0</td>\n",
              "      <td>0.25</td>\n",
              "      <td>0.75</td>\n",
              "      <td>0.000000</td>\n",
              "      <td>0.333333</td>\n",
              "      <td>1.333333</td>\n",
              "      <td>0.5</td>\n",
              "      <td>0.0</td>\n",
              "      <td>1.0</td>\n",
              "      <td>0.0</td>\n",
              "      <td>0.0</td>\n",
              "      <td>1.0</td>\n",
              "      <td>1.0</td>\n",
              "      <td>0.0</td>\n",
              "      <td>-0.5</td>\n",
              "      <td>0.50</td>\n",
              "      <td>0.0</td>\n",
              "      <td>0.25</td>\n",
              "      <td>0.00</td>\n",
              "      <td>0.00</td>\n",
              "      <td>0.09375</td>\n",
              "      <td>0.0</td>\n",
              "      <td>18.666667</td>\n",
              "    </tr>\n",
              "    <tr>\n",
              "      <th>1</th>\n",
              "      <td>1.0</td>\n",
              "      <td>0.0</td>\n",
              "      <td>-2.000000</td>\n",
              "      <td>9.5</td>\n",
              "      <td>0.0</td>\n",
              "      <td>0.0</td>\n",
              "      <td>0.25</td>\n",
              "      <td>0.75</td>\n",
              "      <td>0.333333</td>\n",
              "      <td>0.000000</td>\n",
              "      <td>0.333333</td>\n",
              "      <td>1.0</td>\n",
              "      <td>0.0</td>\n",
              "      <td>0.0</td>\n",
              "      <td>0.0</td>\n",
              "      <td>0.0</td>\n",
              "      <td>1.0</td>\n",
              "      <td>0.0</td>\n",
              "      <td>1.0</td>\n",
              "      <td>-0.5</td>\n",
              "      <td>0.25</td>\n",
              "      <td>0.5</td>\n",
              "      <td>0.00</td>\n",
              "      <td>0.25</td>\n",
              "      <td>0.25</td>\n",
              "      <td>0.15625</td>\n",
              "      <td>0.0</td>\n",
              "      <td>1.333333</td>\n",
              "    </tr>\n",
              "  </tbody>\n",
              "</table>\n",
              "</div>"
            ],
            "text/plain": [
              "   BIAS  School    Gender  Age  Address  Small family  \\\n",
              "0   1.0     1.0 -2.285714  9.0      0.0           1.0   \n",
              "1   1.0     0.0 -2.000000  9.5      0.0           0.0   \n",
              "\n",
              "   Parents Living Together  Mother with higher education  \\\n",
              "0                     0.25                          0.75   \n",
              "1                     0.25                          0.75   \n",
              "\n",
              "   Father with secondary education  Travel time  Study time  Failures  \\\n",
              "0                         0.000000     0.333333    1.333333       0.5   \n",
              "1                         0.333333     0.000000    0.333333       1.0   \n",
              "\n",
              "   School Support  Family Support  Additional Classes  \\\n",
              "0             0.0             1.0                 0.0   \n",
              "1             0.0             0.0                 0.0   \n",
              "\n",
              "   Out-of-school activities  Nursery school  Higher education  \\\n",
              "0                       0.0             1.0               1.0   \n",
              "1                       0.0             1.0               0.0   \n",
              "\n",
              "   Internet access  Romantic Relationship  Good relation with family  \\\n",
              "0              0.0                   -0.5                       0.50   \n",
              "1              1.0                   -0.5                       0.25   \n",
              "\n",
              "   Free time  Goes out with peers  Workday alcohol consumption  \\\n",
              "0        0.0                 0.25                         0.00   \n",
              "1        0.5                 0.00                         0.25   \n",
              "\n",
              "   Weekend alcohol consumption  Current health status  Absences  Average Score  \n",
              "0                         0.00                0.09375       0.0      18.666667  \n",
              "1                         0.25                0.15625       0.0       1.333333  "
            ]
          },
          "execution_count": 13,
          "metadata": {},
          "output_type": "execute_result"
        }
      ],
      "source": [
        "# Save the best and worst student featuers\n",
        "best_student = X_orig[:, best_student_idx]\n",
        "worst_student = X_orig[:, worst_student_idx]\n",
        "\n",
        "# Append the average prediction in the above arrays for both students\n",
        "best_student_with_score = numpy.append(best_student, current_best_score)\n",
        "worst_student_with_score = numpy.append(worst_student, current_worst_score)\n",
        "\n",
        "# This is for your visualization purpose only. It will show you the top and bottom student in a tabular format.\n",
        "import pandas as pd\n",
        "\n",
        "# Set the option to display all columns\n",
        "pd.set_option('display.max_columns', None)\n",
        "\n",
        "#Just for visualization purposes\n",
        "columns = [\"BIAS\", \"School\", \"Gender\", \"Age\", \"Address\", \"Small family\", \"Parents Living Together\", \"Mother with higher education\", \"Father with secondary education\",\n",
        "           \"Travel time\", \"Study time\", \"Failures\", \"School Support\", \"Family Support\", \"Additional Classes\", \"Out-of-school activities\",\n",
        "           \"Nursery school\", \"Higher education\", \"Internet access\", \"Romantic Relationship\", \"Good relation with family\", \"Free time\",\n",
        "           \"Goes out with peers\", \"Workday alcohol consumption\", \"Weekend alcohol consumption\", \"Current health status\",\n",
        "           \"Absences\", \"Average Score\"]\n",
        "\n",
        "# Initialize an empty DataFrame with the specified columns\n",
        "df = pd.DataFrame(numpy.vstack([best_student_with_score, worst_student_with_score]), columns=columns)\n",
        "df"
      ]
    },
    {
      "attachments": {},
      "cell_type": "markdown",
      "metadata": {
        "id": "9lB1b-8V_Dr6"
      },
      "source": [
        "### Task 11: Influence of Data Dimensions (Optional)\n",
        "\n",
        "\n",
        "For some dimensions in the input feature $\\vec x$, we want to test how different input values for this dimension would influence the outcome.\n",
        "Particularly, we test:\n",
        "\n",
        "  * Weekly study time at index $d=10$: vary in the range $[1,4]$ \n",
        "  * Past Failures at index $d=11$: vary in range $[0,3]$ \n",
        "  * Romantic relations at index $d=19$: change between yes ($1$) and no ($-1$)\n",
        "  * Weekday alcohol consumption at index $d=23$: varies in the range $[1,6]$.\n",
        "  * Absences at index $d=26$: vary with following values $[0,10,20,30]$.\n",
        "\n",
        "Note that the indexes include the fact that we are omitting some input dimensions, so they might differ from what is listed on the webpage.\n",
        "\n",
        "Check how the performance changes if the above features are changed for the best student and the worst student. \n",
        "\n",
        "Did the average increase or decrease? Did you expect this output?"
      ]
    },
    {
      "cell_type": "code",
      "execution_count": 14,
      "metadata": {
        "id": "buTufJpd_Dr6"
      },
      "outputs": [
        {
          "data": {
            "image/png": "[encoded data removed]",
            "text/plain": [
              "<Figure size 432x288 with 1 Axes>"
            ]
          },
          "metadata": {
            "needs_background": "light"
          },
          "output_type": "display_data"
        }
      ],
      "source": [
        "# implement a way to modify the input at a given index with certain values\n",
        "# and to predict and print the network output for this modification\n",
        "def change_values(data , idx, range_type, R):\n",
        "    if range_type == \"cont\":\n",
        "        data.iloc[0, idx] = numpy.random.uniform(R[0], R[1])\n",
        "        data.iloc[1, idx] = numpy.random.uniform(R[0], R[1])\n",
        "    elif range_type == \"disc\":\n",
        "        data.iloc[0, idx] = numpy.random.choice(R)\n",
        "        data.iloc[1, idx] = numpy.random.choice(R)\n",
        "        \n",
        "R = [[1,4], [0, 3], [-1, 1], [1,6], [0, 10, 20, 30]] \n",
        "style = numpy.array([\"cont\", \"cont\", \"disc\", \"cont\", \"disc\"])\n",
        "\n",
        "BEST = []\n",
        "WORST = []\n",
        "n_r = 100\n",
        "for e in range(n_r):\n",
        "    for i,d in enumerate([10, 11, 19, 23, 26]):\n",
        "        change_values(df, d,style[i], R[i])\n",
        "    BEST.append(numpy.average(network(df.iloc[0, 1:].values.T, Theta2)[0]))\n",
        "    WORST.append(numpy.average(network(df.iloc[1, 1:].values.T, Theta2)[0]))\n",
        "# run this with the 5 modifications and their according to values as seen above for both top and bottom student\n",
        "\n",
        "\n",
        "pyplot.plot(numpy.linspace(0,n_r, n_r), BEST, color = \"g\")\n",
        "pyplot.plot(numpy.linspace(0,n_r, n_r), WORST, color = \"r\")\n",
        "pyplot.plot(numpy.linspace(0,n_r, n_r), [current_best_score]*n_r, color = \"g\", label='best grade')\n",
        "pyplot.plot(numpy.linspace(0,n_r, n_r), [current_worst_score]*n_r, color = \"r\", label=' worst grade')\n",
        "pyplot.legend()\n",
        "pyplot.ylabel('Average grades')\n",
        "pyplot.show()\n",
        "\n",
        "# new_grades_best = network(df.iloc[0, 1:].values.T, Theta3)[0]\n",
        "# new_grades_worst = network(df.iloc[1, 1:].values.T, Theta3)[0]\n",
        "\n",
        "# print(\"The average of the best student was\", current_best_score , \"now is:\", numpy.average(new_grades_best))\n",
        "# print(\"The average of the worst student was\", current_worst_score , \"now is:\", numpy.average(new_grades_worst))"
      ]
    },
    {
      "cell_type": "markdown",
      "metadata": {},
      "source": [
        "In general, by modifying the given features, the avarage grades stabilize aroung 12/13. Their impact on the predictions is evident."
      ]
    }
  ],
  "metadata": {
    "colab": {
      "provenance": []
    },
    "interpreter": {
      "hash": "2dd53f8ad749bca69f7250ce75eb4f0def59db5cf79075a9716322ffc58e8a2e"
    },
    "kernelspec": {
      "display_name": "Python 3.8.10 ('DL')",
      "language": "python",
      "name": "python3"
    },
    "language_info": {
      "codemirror_mode": {
        "name": "ipython",
        "version": 3
      },
      "file_extension": ".py",
      "mimetype": "text/x-python",
      "name": "python",
      "nbconvert_exporter": "python",
      "pygments_lexer": "ipython3",
      "version": "3.8.8"
    },
    "orig_nbformat": 4
  },
  "nbformat": 4,
  "nbformat_minor": 0
}
